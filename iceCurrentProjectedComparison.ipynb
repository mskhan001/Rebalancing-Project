{
 "cells": [
  {
   "cell_type": "code",
   "execution_count": 1,
   "id": "ad3f4819",
   "metadata": {},
   "outputs": [],
   "source": [
    "import pandas as pd\n",
    "import numpy as np\n",
    "import math"
   ]
  },
  {
   "cell_type": "code",
   "execution_count": 2,
   "id": "145259eb",
   "metadata": {},
   "outputs": [],
   "source": [
    "# Output file name\n",
    "index_name = \"P0P4\"\n",
    "etf_name = \"PGX\"\n",
    "\n",
    "# index_name = \"PHGY\"\n",
    "# etf_name = \"PFF\"\n",
    "\n",
    "outputFile = '{} Rebalancing Numbers.xlsx'.format(etf_name)\n",
    "\n",
    "# Total market Cap for PFF/PGX, needs to be manually updated Can be automated later\n",
    "current_pff_market_cap = 13708086021\n",
    "current_pgx_market_cap = 4892200000\n",
    "\n",
    "# Reading the ICE Data for Current and Projected Universe\n",
    "ice_currentUniverse_df = pd.read_excel('Data/{}-Current.xlsx'.format(index_name), skiprows=[0])\n",
    "ice_projectedUniverse_df = pd.read_excel('Data/{}-Projected.xlsx'.format(index_name), skiprows=[0])\n",
    "\n",
    "# DataFrame for our final Output\n",
    "output_df = pd.DataFrame()"
   ]
  },
  {
   "cell_type": "code",
   "execution_count": 3,
   "id": "e96fa9e0",
   "metadata": {},
   "outputs": [
    {
     "data": {
      "text/plain": [
       "'PGX Rebalancing Numbers.xlsx'"
      ]
     },
     "execution_count": 3,
     "metadata": {},
     "output_type": "execute_result"
    }
   ],
   "source": [
    "outputFile"
   ]
  },
  {
   "cell_type": "code",
   "execution_count": 4,
   "id": "7b04d83a",
   "metadata": {},
   "outputs": [],
   "source": [
    "# When reading data, below strings are read, they must be marked as np.nan\n",
    "msg1 = 'Any unauthorized use or disclosure is prohibited. Nothing herein should in any way be deemed to alter the legal rights and obligations contained in agreements between any ICE Data Services entity (\"ICE\") and their clients relating to any of the Indices or products or services described herein. The information provided by ICE and contained herein is subject to change without notice and does not constitute any form of representation, or undertaking.  ICE and its affiliates make no warranties whatsoever, either express or implied, as to merchantability, fitness for a particular purpose, or any other matter in connection with the information provided. Without limiting the foregoing, ICE and its affiliates makes no representation or warranty that any information provided hereunder are complete or free from errors, omissions, or defects. All information provided by ICE is owned by or licensed to ICE. ICE retains exclusive ownership of the ICE Indices, including the ICE BofAML Indexes, and the analytics used to create this analysis ICE may in its absolute discretion and without prior notice revise or terminate the ICE information and analytics at any time. The information in this analysis is for internal use only and redistribution of this information to third parties is expressly prohibited.'\n",
    "msg2 = 'Neither the analysis nor the information contained therein constitutes investment advice or an offer  or an invitation to make an offer  to buy or sell any securities or any options  futures or other derivatives related to such securities. The information and calculations contained in this analysis have been obtained from a variety of sources  including those other than ICE and ICE does not guarantee their accuracy.  Prior to relying on any ICE information and/or the execution of a security trade based upon such ICE information, you are advised to consult with your broker or other financial representative to verify pricing information. There is no assurance that hypothetical results will be equal to actual performance under any market conditions. THE ICE INFORMATION IS PROVIDED TO THE USERS \"AS IS.\" NEITHER ICE, NOR ITS AFFILIATES, NOR ANY THIRD PARTY DATA PROVIDER WILL BE LIABLE TO ANY USER OR ANYONE ELSE FOR ANY INTERRUPTION, INACCURACY, ERROR OR OMISSION, REGARDLESS OF CAUSE, IN THE ICE INFORMATION OR FOR ANY DAMAGES RESULTING THEREFROM. In no event shall ICE or any of its affiliates, employees  officers  directors or agents of any such persons have any liability to any person or entity relating to or arising out of this information, analysis  or the indices  contained herein.'"
   ]
  },
  {
   "cell_type": "code",
   "execution_count": 5,
   "id": "aa8f563c",
   "metadata": {},
   "outputs": [],
   "source": [
    "# Current Universe Data\n",
    "ice_currentUniverse_df = ice_currentUniverse_df.replace('NaN', np.nan)\n",
    "ice_currentUniverse_df = ice_currentUniverse_df.replace(msg1, np.nan)\n",
    "ice_currentUniverse_df= ice_currentUniverse_df.replace(msg2, np.nan)\n",
    "\n",
    "#drop row if ISIN number is Nan\n",
    "ice_currentUniverse_df.dropna(subset=['ISIN number'], inplace=True)\n",
    "\n",
    "# Projected Universe Data\n",
    "ice_projectedUniverse_df = ice_projectedUniverse_df.replace('NaN', np.nan)\n",
    "ice_projectedUniverse_df = ice_projectedUniverse_df.replace(msg1, np.nan)\n",
    "ice_projectedUniverse_df= ice_projectedUniverse_df.replace(msg2, np.nan)\n",
    "\n",
    "#drop row if ISIN number is Nan\n",
    "ice_projectedUniverse_df.dropna(subset=['ISIN number'], inplace=True)"
   ]
  },
  {
   "cell_type": "code",
   "execution_count": 6,
   "id": "40c5373f",
   "metadata": {},
   "outputs": [],
   "source": [
    "# Storing the unique ISIN ID's from both the current and projected universe data\n",
    "unique_ISIN = pd.concat([ice_currentUniverse_df['ISIN number'], ice_projectedUniverse_df['ISIN number']]).drop_duplicates().reset_index(drop=True)\n",
    "output_df['ISIN number'] = unique_ISIN"
   ]
  },
  {
   "cell_type": "code",
   "execution_count": 7,
   "id": "5c7082fe",
   "metadata": {},
   "outputs": [],
   "source": [
    "isin_to_ticker_df = pd.read_excel('Static Data/ISINtoTicker.xlsx')\n",
    "output_df = output_df.merge(isin_to_ticker_df, left_on='ISIN number', right_on='ISIN', how='left').drop(['ISIN'], axis=1)"
   ]
  },
  {
   "cell_type": "code",
   "execution_count": 8,
   "id": "528a0cd1",
   "metadata": {},
   "outputs": [
    {
     "name": "stderr",
     "output_type": "stream",
     "text": [
      "/var/folders/3f/bwblj7n13596fl7z3cp9q_c40000gn/T/ipykernel_2057/3646729206.py:1: FutureWarning: The default value of regex will change from True to False in a future version.\n",
      "  output_df['Activ Ticker'] = output_df['Ticker'].str.replace(\".PR\",\"p\")\n"
     ]
    }
   ],
   "source": [
    "output_df['Activ Ticker'] = output_df['Ticker'].str.replace(\".PR\",\"p\")"
   ]
  },
  {
   "cell_type": "code",
   "execution_count": 9,
   "id": "cf39a263",
   "metadata": {},
   "outputs": [],
   "source": [
    "# getting the ActivDiv for reading the prices\n",
    "activ_df = pd.read_excel('Static Data/ACtivDivData.xlsx', 'PasteByValues')\n",
    "activ_df = activ_df[['Activ Ticker', 'Last Price']]"
   ]
  },
  {
   "cell_type": "code",
   "execution_count": 10,
   "id": "e83f373c",
   "metadata": {},
   "outputs": [],
   "source": [
    "def getLastPrice(x):\n",
    "    activTicker = x['Activ Ticker']\n",
    "    ticker = activ_df[activ_df['Activ Ticker']==activTicker]\n",
    "    if(len(ticker)>0):\n",
    "        return ticker.iloc[0]['Last Price']\n",
    "    return np.nan\n",
    "\n",
    "output_df['Last Price'] = output_df.apply(getLastPrice, axis=1)"
   ]
  },
  {
   "cell_type": "code",
   "execution_count": 11,
   "id": "be27cc0c",
   "metadata": {},
   "outputs": [],
   "source": [
    "def getCurrentMarketCap(x):\n",
    "    isid = x['ISIN number']\n",
    "    ticker = ice_currentUniverse_df[ice_currentUniverse_df['ISIN number']==isid]\n",
    "    if(len(ticker)>0):\n",
    "        return ticker.iloc[0]['% Mkt Value']\n",
    "    return 0\n",
    "\n",
    "def getProjectedMarketCap(x):\n",
    "    isid = x['ISIN number']\n",
    "    ticker = ice_projectedUniverse_df[ice_projectedUniverse_df['ISIN number']==isid]\n",
    "    if(len(ticker)>0):\n",
    "        return ticker.iloc[0]['% Mkt Value']\n",
    "    return 0\n",
    "\n",
    "output_df['Current % Mkt Cap'] = output_df.apply(getCurrentMarketCap, axis=1)\n",
    "output_df['Projected % Mkt Cap'] = output_df.apply(getProjectedMarketCap, axis=1)"
   ]
  },
  {
   "cell_type": "code",
   "execution_count": 12,
   "id": "4380cce0",
   "metadata": {},
   "outputs": [],
   "source": [
    "def getCurrentPFFShares(x):\n",
    "    if(not isinstance(x['Last Price'], str)):\n",
    "        return np.rint((current_pff_market_cap*x['Current % Mkt Cap'])/(x['Last Price']*100))\n",
    "    return np.nan\n",
    "\n",
    "def getProjectedPFFShares(x):\n",
    "    if(not isinstance(x['Last Price'], str)):\n",
    "        return np.rint((current_pff_market_cap*x['Projected % Mkt Cap'])/(x['Last Price']*100))\n",
    "    return np.nan\n",
    "\n",
    "output_df['Current {} Shares'.format(etf_name)] = output_df.apply(getCurrentPFFShares, axis=1)\n",
    "output_df['Projected {} Shares'.format(etf_name)] = output_df.apply(getProjectedPFFShares, axis=1)\n",
    "output_df['Difference'] = output_df.apply(lambda x: x['Projected {} Shares'.format(etf_name)]-x['Current {} Shares'.format(etf_name)], axis=1)"
   ]
  },
  {
   "cell_type": "code",
   "execution_count": 13,
   "id": "e51833cc",
   "metadata": {},
   "outputs": [],
   "source": [
    "total_buys_ice = output_df['Difference'].where(output_df['Difference']>0).sum()\n",
    "total_sells_ice = output_df['Difference'].where(output_df['Difference']<0).sum()\n",
    "total_pff_transactions_df = pd.DataFrame({\"Number of Shares\":[total_buys_ice, total_sells_ice]}, index=['Total {} Buys'.format(etf_name), 'Total {} Sells'.format(etf_name)])"
   ]
  },
  {
   "cell_type": "code",
   "execution_count": 14,
   "id": "fb93c4ad",
   "metadata": {},
   "outputs": [],
   "source": [
    "with pd.ExcelWriter(outputFile, mode=\"w\") as writer:\n",
    "    output_df.to_excel(writer, sheet_name='{} - ICE Index'.format(etf_name))\n",
    "    total_pff_transactions_df.to_excel(writer, sheet_name='Total {} Transactions ICE'.format(etf_name))"
   ]
  },
  {
   "cell_type": "code",
   "execution_count": null,
   "id": "b5b6b57b",
   "metadata": {},
   "outputs": [],
   "source": []
  },
  {
   "cell_type": "code",
   "execution_count": 15,
   "id": "4bb8a4a5",
   "metadata": {
    "scrolled": true
   },
   "outputs": [
    {
     "data": {
      "text/html": [
       "<div>\n",
       "<style scoped>\n",
       "    .dataframe tbody tr th:only-of-type {\n",
       "        vertical-align: middle;\n",
       "    }\n",
       "\n",
       "    .dataframe tbody tr th {\n",
       "        vertical-align: top;\n",
       "    }\n",
       "\n",
       "    .dataframe thead th {\n",
       "        text-align: right;\n",
       "    }\n",
       "</style>\n",
       "<table border=\"1\" class=\"dataframe\">\n",
       "  <thead>\n",
       "    <tr style=\"text-align: right;\">\n",
       "      <th></th>\n",
       "      <th>ISIN number</th>\n",
       "      <th>Ticker</th>\n",
       "      <th>Activ Ticker</th>\n",
       "      <th>Last Price</th>\n",
       "      <th>Current % Mkt Cap</th>\n",
       "      <th>Projected % Mkt Cap</th>\n",
       "      <th>Current PGX Shares</th>\n",
       "      <th>Projected PGX Shares</th>\n",
       "      <th>Difference</th>\n",
       "    </tr>\n",
       "  </thead>\n",
       "  <tbody>\n",
       "    <tr>\n",
       "      <th>69</th>\n",
       "      <td>CASHUSD00000</td>\n",
       "      <td>NaN</td>\n",
       "      <td>NaN</td>\n",
       "      <td>NaN</td>\n",
       "      <td>0.22319</td>\n",
       "      <td>0.00000</td>\n",
       "      <td>NaN</td>\n",
       "      <td>NaN</td>\n",
       "      <td>NaN</td>\n",
       "    </tr>\n",
       "    <tr>\n",
       "      <th>103</th>\n",
       "      <td>US26884U5056</td>\n",
       "      <td>EPR.PRG</td>\n",
       "      <td>ppG</td>\n",
       "      <td>source not found</td>\n",
       "      <td>0.10341</td>\n",
       "      <td>0.10358</td>\n",
       "      <td>NaN</td>\n",
       "      <td>NaN</td>\n",
       "      <td>NaN</td>\n",
       "    </tr>\n",
       "    <tr>\n",
       "      <th>225</th>\n",
       "      <td>US8385182071</td>\n",
       "      <td>SJIJ</td>\n",
       "      <td>SJIJ</td>\n",
       "      <td>target not permissioned</td>\n",
       "      <td>0.11823</td>\n",
       "      <td>0.11843</td>\n",
       "      <td>NaN</td>\n",
       "      <td>NaN</td>\n",
       "      <td>NaN</td>\n",
       "    </tr>\n",
       "    <tr>\n",
       "      <th>284</th>\n",
       "      <td>US0454876006</td>\n",
       "      <td>NaN</td>\n",
       "      <td>NaN</td>\n",
       "      <td>NaN</td>\n",
       "      <td>0.00000</td>\n",
       "      <td>0.27216</td>\n",
       "      <td>NaN</td>\n",
       "      <td>NaN</td>\n",
       "      <td>NaN</td>\n",
       "    </tr>\n",
       "  </tbody>\n",
       "</table>\n",
       "</div>"
      ],
      "text/plain": [
       "      ISIN number   Ticker Activ Ticker               Last Price  \\\n",
       "69   CASHUSD00000      NaN          NaN                      NaN   \n",
       "103  US26884U5056  EPR.PRG          ppG         source not found   \n",
       "225  US8385182071     SJIJ         SJIJ  target not permissioned   \n",
       "284  US0454876006      NaN          NaN                      NaN   \n",
       "\n",
       "     Current % Mkt Cap  Projected % Mkt Cap  Current PGX Shares  \\\n",
       "69             0.22319              0.00000                 NaN   \n",
       "103            0.10341              0.10358                 NaN   \n",
       "225            0.11823              0.11843                 NaN   \n",
       "284            0.00000              0.27216                 NaN   \n",
       "\n",
       "     Projected PGX Shares  Difference  \n",
       "69                    NaN         NaN  \n",
       "103                   NaN         NaN  \n",
       "225                   NaN         NaN  \n",
       "284                   NaN         NaN  "
      ]
     },
     "execution_count": 15,
     "metadata": {},
     "output_type": "execute_result"
    }
   ],
   "source": [
    "output_df[output_df['Last Price'].apply(lambda x: (type(x)!=float and type(x)!=int) or math.isnan(x))]"
   ]
  },
  {
   "cell_type": "code",
   "execution_count": null,
   "id": "31dfcc3d",
   "metadata": {},
   "outputs": [],
   "source": []
  }
 ],
 "metadata": {
  "kernelspec": {
   "display_name": "Python 3 (ipykernel)",
   "language": "python",
   "name": "python3"
  },
  "language_info": {
   "codemirror_mode": {
    "name": "ipython",
    "version": 3
   },
   "file_extension": ".py",
   "mimetype": "text/x-python",
   "name": "python",
   "nbconvert_exporter": "python",
   "pygments_lexer": "ipython3",
   "version": "3.10.10"
  }
 },
 "nbformat": 4,
 "nbformat_minor": 5
}
