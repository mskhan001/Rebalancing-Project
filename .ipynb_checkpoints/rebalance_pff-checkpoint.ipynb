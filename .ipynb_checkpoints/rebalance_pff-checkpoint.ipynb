{
 "cells": [
  {
   "cell_type": "code",
   "execution_count": 1,
   "id": "d620837d",
   "metadata": {},
   "outputs": [],
   "source": [
    "import pandas as pd\n",
    "import numpy as np"
   ]
  },
  {
   "cell_type": "code",
   "execution_count": 2,
   "id": "f48a4b68",
   "metadata": {},
   "outputs": [],
   "source": [
    "# Total market Cap for PFF, needs to be manually updated\n",
    "# Can be automated later\n",
    "current_pff_market_cap = 13976554520\n",
    "\n",
    "# Readinf the ICE Data for Current and Projected Universe\n",
    "current_universe_df = pd.read_excel('PHGY-Current.xlsx', skiprows=[0])\n",
    "projected_universe_df = pd.read_excel('PHGY-Projected.xlsx', skiprows=[0])\n",
    "\n",
    "# DataFrame for our final Output\n",
    "pff_df = pd.DataFrame()"
   ]
  },
  {
   "cell_type": "code",
   "execution_count": 3,
   "id": "cd91a3dc",
   "metadata": {},
   "outputs": [],
   "source": [
    "# When reading data, below strings are read, they must be marked as np.nan\n",
    "msg1 = 'Any unauthorized use or disclosure is prohibited. Nothing herein should in any way be deemed to alter the legal rights and obligations contained in agreements between any ICE Data Services entity (\"ICE\") and their clients relating to any of the Indices or products or services described herein. The information provided by ICE and contained herein is subject to change without notice and does not constitute any form of representation, or undertaking.  ICE and its affiliates make no warranties whatsoever, either express or implied, as to merchantability, fitness for a particular purpose, or any other matter in connection with the information provided. Without limiting the foregoing, ICE and its affiliates makes no representation or warranty that any information provided hereunder are complete or free from errors, omissions, or defects. All information provided by ICE is owned by or licensed to ICE. ICE retains exclusive ownership of the ICE Indices, including the ICE BofAML Indexes, and the analytics used to create this analysis ICE may in its absolute discretion and without prior notice revise or terminate the ICE information and analytics at any time. The information in this analysis is for internal use only and redistribution of this information to third parties is expressly prohibited.'\n",
    "msg2 = 'Neither the analysis nor the information contained therein constitutes investment advice or an offer  or an invitation to make an offer  to buy or sell any securities or any options  futures or other derivatives related to such securities. The information and calculations contained in this analysis have been obtained from a variety of sources  including those other than ICE and ICE does not guarantee their accuracy.  Prior to relying on any ICE information and/or the execution of a security trade based upon such ICE information, you are advised to consult with your broker or other financial representative to verify pricing information. There is no assurance that hypothetical results will be equal to actual performance under any market conditions. THE ICE INFORMATION IS PROVIDED TO THE USERS \"AS IS.\" NEITHER ICE, NOR ITS AFFILIATES, NOR ANY THIRD PARTY DATA PROVIDER WILL BE LIABLE TO ANY USER OR ANYONE ELSE FOR ANY INTERRUPTION, INACCURACY, ERROR OR OMISSION, REGARDLESS OF CAUSE, IN THE ICE INFORMATION OR FOR ANY DAMAGES RESULTING THEREFROM. In no event shall ICE or any of its affiliates, employees  officers  directors or agents of any such persons have any liability to any person or entity relating to or arising out of this information, analysis  or the indices  contained herein.'"
   ]
  },
  {
   "cell_type": "code",
   "execution_count": 4,
   "id": "a59e1e80",
   "metadata": {},
   "outputs": [],
   "source": [
    "# Current Universe Data\n",
    "current_universe_df = current_universe_df.replace('NaN', np.nan)\n",
    "current_universe_df = current_universe_df.replace(msg1, np.nan)\n",
    "current_universe_df= current_universe_df.replace(msg2, np.nan)\n",
    "\n",
    "#drop row if ISIN number is Nan\n",
    "current_universe_df.dropna(subset=['ISIN number'], inplace=True)\n",
    "\n",
    "# Projected Universe Data\n",
    "projected_universe_df = projected_universe_df.replace('NaN', np.nan)\n",
    "projected_universe_df = projected_universe_df.replace(msg1, np.nan)\n",
    "projected_universe_df= projected_universe_df.replace(msg2, np.nan)\n",
    "\n",
    "#drop row if ISIN number is Nan\n",
    "projected_universe_df.dropna(subset=['ISIN number'], inplace=True)"
   ]
  },
  {
   "cell_type": "code",
   "execution_count": 5,
   "id": "7206f2a3",
   "metadata": {},
   "outputs": [],
   "source": [
    "# Storing the unique ISIN ID's from both the current and projected universe data\n",
    "unique_ISIN = pd.concat([current_universe_df['ISIN number'], projected_universe_df['ISIN number']]).drop_duplicates().reset_index(drop=True)\n",
    "pff_df['ISIN number'] = unique_ISIN"
   ]
  },
  {
   "cell_type": "code",
   "execution_count": 6,
   "id": "6f2647ee",
   "metadata": {},
   "outputs": [],
   "source": [
    "# Reading the Bloomberg File in DataFrame to get the 'Bloomberg Ticker'\n",
    "bloomberg_df = pd.read_excel('Bloomberg_Preferred_Oct2018_Start.xlsx', skiprows=[0,1])\n",
    "bloomberg_df = bloomberg_df[['Symbol', 'ID_ISIN']]"
   ]
  },
  {
   "cell_type": "code",
   "execution_count": 7,
   "id": "d0b570e9",
   "metadata": {},
   "outputs": [],
   "source": [
    "def getBloombergTicker(x):\n",
    "    isid = x['ISIN number']\n",
    "    ticker = bloomberg_df[bloomberg_df['ID_ISIN']==isid]\n",
    "    if(len(ticker)>0):\n",
    "        return ticker.values[0][0]\n",
    "    return np.nan\n",
    "\n",
    "# getting the Bloomberg Ticker from the Bloomberg file\n",
    "pff_df['Bloomberg Ticker'] = pff_df.apply(getBloombergTicker, axis=1)\n",
    "\n",
    "# getting the Activ Ticker by applying formula\n",
    "# formula written by Deepak in Excel Sheet\n",
    "pff_df['Activ Ticker'] = pff_df['Bloomberg Ticker'].str.replace(\" Pfd\", \"\").str.replace(\" \", \"p\")"
   ]
  },
  {
   "cell_type": "code",
   "execution_count": 8,
   "id": "20bf4bc9",
   "metadata": {},
   "outputs": [],
   "source": [
    "# getting the ActivDiv for reading the prices\n",
    "activ_df = pd.read_excel('ACtivDivData.xlsx', 'PasteByValues')\n",
    "activ_df = activ_df[['Activ Ticker', 'Last Price']]"
   ]
  },
  {
   "cell_type": "code",
   "execution_count": 9,
   "id": "761b9007",
   "metadata": {},
   "outputs": [],
   "source": [
    "def getLastPrice(x):\n",
    "    activTicker = x['Activ Ticker']\n",
    "    ticker = activ_df[activ_df['Activ Ticker']==activTicker]\n",
    "    if(len(ticker)>0):\n",
    "        return ticker.iloc[0]['Last Price']\n",
    "    return np.nan\n",
    "\n",
    "pff_df['Last Price'] = pff_df.apply(getLastPrice, axis=1)"
   ]
  },
  {
   "cell_type": "code",
   "execution_count": 10,
   "id": "a097b607",
   "metadata": {},
   "outputs": [],
   "source": [
    "def getCurrentMarketCap(x):\n",
    "    isid = x['ISIN number']\n",
    "    ticker = current_universe_df[current_universe_df['ISIN number']==isid]\n",
    "    if(len(ticker)>0):\n",
    "        return ticker.iloc[0]['% Mkt Value']\n",
    "    return 0\n",
    "\n",
    "def getProjectedMarketCap(x):\n",
    "    isid = x['ISIN number']\n",
    "    ticker = projected_universe_df[projected_universe_df['ISIN number']==isid]\n",
    "    if(len(ticker)>0):\n",
    "        return ticker.iloc[0]['% Mkt Value']\n",
    "    return 0\n",
    "\n",
    "pff_df['Current % Mkt Cap'] = pff_df.apply(getCurrentMarketCap, axis=1)\n",
    "pff_df['Projected % Mkt Cap'] = pff_df.apply(getProjectedMarketCap, axis=1)"
   ]
  },
  {
   "cell_type": "code",
   "execution_count": 11,
   "id": "e96f3a4b",
   "metadata": {},
   "outputs": [],
   "source": [
    "def getCurrentPFFShares(x):\n",
    "    if(not isinstance(x['Last Price'], str)):\n",
    "        return np.rint((current_pff_market_cap*x['Current % Mkt Cap'])/(x['Last Price']*100))\n",
    "    return np.nan\n",
    "\n",
    "def getProjectedPFFShares(x):\n",
    "    if(not isinstance(x['Last Price'], str)):\n",
    "        return np.rint((current_pff_market_cap*x['Projected % Mkt Cap'])/(x['Last Price']*100))\n",
    "    return np.nan\n",
    "\n",
    "pff_df['Current PFF Shares'] = pff_df.apply(getCurrentPFFShares, axis=1)\n",
    "pff_df['Projected PFF Shares'] = pff_df.apply(getProjectedPFFShares, axis=1)\n",
    "pff_df['Difference'] = pff_df.apply(lambda x: x['Projected PFF Shares']-x['Current PFF Shares'], axis=1)"
   ]
  },
  {
   "cell_type": "code",
   "execution_count": 12,
   "id": "0d80a830",
   "metadata": {},
   "outputs": [],
   "source": [
    "pff_df.to_csv('pff_test.csv')"
   ]
  },
  {
   "cell_type": "code",
   "execution_count": null,
   "id": "f00ade5a",
   "metadata": {},
   "outputs": [],
   "source": []
  }
 ],
 "metadata": {
  "kernelspec": {
   "display_name": "Python 3 (ipykernel)",
   "language": "python",
   "name": "python3"
  },
  "language_info": {
   "codemirror_mode": {
    "name": "ipython",
    "version": 3
   },
   "file_extension": ".py",
   "mimetype": "text/x-python",
   "name": "python",
   "nbconvert_exporter": "python",
   "pygments_lexer": "ipython3",
   "version": "3.10.10"
  }
 },
 "nbformat": 4,
 "nbformat_minor": 5
}
