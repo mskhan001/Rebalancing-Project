{
 "cells": [
  {
   "cell_type": "code",
   "execution_count": 11,
   "id": "d899bf11",
   "metadata": {},
   "outputs": [
    {
     "name": "stderr",
     "output_type": "stream",
     "text": [
      "/var/folders/3f/bwblj7n13596fl7z3cp9q_c40000gn/T/ipykernel_5029/2020691251.py:13: DeprecationWarning: executable_path has been deprecated, please pass in a Service object\n",
      "  browser = Chrome(executable_path=path, options=options)\n"
     ]
    }
   ],
   "source": [
    "from selenium.webdriver import Chrome\n",
    "from selenium.webdriver.common.by import By\n",
    "from selenium.webdriver.chrome.options import Options\n",
    "from selenium.webdriver.support.ui import WebDriverWait\n",
    "from selenium.webdriver.support import expected_conditions as EC\n",
    "import time\n",
    "from bs4 import BeautifulSoup\n",
    "import pandas as pd\n",
    "\n",
    "path = 'chromedriver.exe'\n",
    "url = f\"https://indices.theice.com/\"\n",
    "options = Options()\n",
    "browser = Chrome(executable_path=path, options=options)    \n",
    "browser.get(url)\n",
    "\n",
    "wait = WebDriverWait(browser, 30)\n",
    "accept_button = wait.until(EC.element_to_be_clickable((By.ID, 'btnAccept')))\n",
    "accept_button.click()\n",
    "\n",
    "login_button = wait.until(EC.element_to_be_clickable((By.ID, 'link')))\n",
    "login_button.click()\n",
    "\n",
    "wait = WebDriverWait(browser, 30)\n",
    "\n",
    "username = \"deepak@paramountfund.net\"\n",
    "password = \"Templin12345!\"\n",
    "\n",
    "username_field = wait.until(EC.presence_of_element_located((By.NAME, 'user')))\n",
    "password_field = wait.until(EC.presence_of_element_located((By.NAME, 'password')))\n",
    "login_button = wait.until(EC.element_to_be_clickable((By.NAME, 'loginPageSubmitBtn')))\n",
    "\n",
    "username_field.send_keys(username)\n",
    "password_field.send_keys(password)\n",
    "login_button.click()"
   ]
  },
  {
   "cell_type": "code",
   "execution_count": 10,
   "id": "3787babe",
   "metadata": {},
   "outputs": [
    {
     "ename": "NoSuchWindowException",
     "evalue": "Message: no such window: target window already closed\nfrom unknown error: web view not found\n  (Session info: chrome=111.0.5563.110)\nStacktrace:\n0   chromedriver                        0x0000000102648428 chromedriver + 4899880\n1   chromedriver                        0x00000001025c5a23 chromedriver + 4364835\n2   chromedriver                        0x000000010220fbf6 chromedriver + 474102\n3   chromedriver                        0x00000001021e5cdc chromedriver + 302300\n4   chromedriver                        0x000000010227e85f chromedriver + 927839\n5   chromedriver                        0x0000000102294226 chromedriver + 1016358\n6   chromedriver                        0x0000000102279333 chromedriver + 906035\n7   chromedriver                        0x000000010224355f chromedriver + 685407\n8   chromedriver                        0x0000000102244a7e chromedriver + 690814\n9   chromedriver                        0x000000010261579e chromedriver + 4691870\n10  chromedriver                        0x000000010261a961 chromedriver + 4712801\n11  chromedriver                        0x00000001026212ff chromedriver + 4739839\n12  chromedriver                        0x000000010261b85a chromedriver + 4716634\n13  chromedriver                        0x00000001025edfce chromedriver + 4530126\n14  chromedriver                        0x000000010263b5c8 chromedriver + 4847048\n15  chromedriver                        0x000000010263b747 chromedriver + 4847431\n16  chromedriver                        0x000000010265087f chromedriver + 4933759\n17  libsystem_pthread.dylib             0x00007ff80663d259 _pthread_start + 125\n18  libsystem_pthread.dylib             0x00007ff806638c7b thread_start + 15\n",
     "output_type": "error",
     "traceback": [
      "\u001b[0;31m---------------------------------------------------------------------------\u001b[0m",
      "\u001b[0;31mNoSuchWindowException\u001b[0m                     Traceback (most recent call last)",
      "Cell \u001b[0;32mIn[10], line 2\u001b[0m\n\u001b[1;32m      1\u001b[0m two_fa \u001b[38;5;241m=\u001b[39m \u001b[38;5;124m\"\u001b[39m\u001b[38;5;124m797962\u001b[39m\u001b[38;5;124m\"\u001b[39m\n\u001b[0;32m----> 2\u001b[0m two_fa_field \u001b[38;5;241m=\u001b[39m \u001b[43mwait\u001b[49m\u001b[38;5;241;43m.\u001b[39;49m\u001b[43muntil\u001b[49m\u001b[43m(\u001b[49m\u001b[43mEC\u001b[49m\u001b[38;5;241;43m.\u001b[39;49m\u001b[43mpresence_of_element_located\u001b[49m\u001b[43m(\u001b[49m\u001b[43m(\u001b[49m\u001b[43mBy\u001b[49m\u001b[38;5;241;43m.\u001b[39;49m\u001b[43mNAME\u001b[49m\u001b[43m,\u001b[49m\u001b[43m \u001b[49m\u001b[38;5;124;43m'\u001b[39;49m\u001b[38;5;124;43motpCode\u001b[39;49m\u001b[38;5;124;43m'\u001b[39;49m\u001b[43m)\u001b[49m\u001b[43m)\u001b[49m\u001b[43m)\u001b[49m\n\u001b[1;32m      3\u001b[0m two_fa_field\u001b[38;5;241m.\u001b[39msend_keys(two_fa)\n\u001b[1;32m      4\u001b[0m login_button\u001b[38;5;241m.\u001b[39mclick()\n",
      "File \u001b[0;32m~/Downloads/Rebalance Project/venv/lib/python3.10/site-packages/selenium/webdriver/support/wait.py:86\u001b[0m, in \u001b[0;36mWebDriverWait.until\u001b[0;34m(self, method, message)\u001b[0m\n\u001b[1;32m     84\u001b[0m \u001b[38;5;28;01mwhile\u001b[39;00m \u001b[38;5;28;01mTrue\u001b[39;00m:\n\u001b[1;32m     85\u001b[0m     \u001b[38;5;28;01mtry\u001b[39;00m:\n\u001b[0;32m---> 86\u001b[0m         value \u001b[38;5;241m=\u001b[39m \u001b[43mmethod\u001b[49m\u001b[43m(\u001b[49m\u001b[38;5;28;43mself\u001b[39;49m\u001b[38;5;241;43m.\u001b[39;49m\u001b[43m_driver\u001b[49m\u001b[43m)\u001b[49m\n\u001b[1;32m     87\u001b[0m         \u001b[38;5;28;01mif\u001b[39;00m value:\n\u001b[1;32m     88\u001b[0m             \u001b[38;5;28;01mreturn\u001b[39;00m value\n",
      "File \u001b[0;32m~/Downloads/Rebalance Project/venv/lib/python3.10/site-packages/selenium/webdriver/support/expected_conditions.py:69\u001b[0m, in \u001b[0;36mpresence_of_element_located.<locals>._predicate\u001b[0;34m(driver)\u001b[0m\n\u001b[1;32m     68\u001b[0m \u001b[38;5;28;01mdef\u001b[39;00m \u001b[38;5;21m_predicate\u001b[39m(driver):\n\u001b[0;32m---> 69\u001b[0m     \u001b[38;5;28;01mreturn\u001b[39;00m \u001b[43mdriver\u001b[49m\u001b[38;5;241;43m.\u001b[39;49m\u001b[43mfind_element\u001b[49m\u001b[43m(\u001b[49m\u001b[38;5;241;43m*\u001b[39;49m\u001b[43mlocator\u001b[49m\u001b[43m)\u001b[49m\n",
      "File \u001b[0;32m~/Downloads/Rebalance Project/venv/lib/python3.10/site-packages/selenium/webdriver/remote/webdriver.py:830\u001b[0m, in \u001b[0;36mWebDriver.find_element\u001b[0;34m(self, by, value)\u001b[0m\n\u001b[1;32m    827\u001b[0m     by \u001b[38;5;241m=\u001b[39m By\u001b[38;5;241m.\u001b[39mCSS_SELECTOR\n\u001b[1;32m    828\u001b[0m     value \u001b[38;5;241m=\u001b[39m \u001b[38;5;124mf\u001b[39m\u001b[38;5;124m'\u001b[39m\u001b[38;5;124m[name=\u001b[39m\u001b[38;5;124m\"\u001b[39m\u001b[38;5;132;01m{\u001b[39;00mvalue\u001b[38;5;132;01m}\u001b[39;00m\u001b[38;5;124m\"\u001b[39m\u001b[38;5;124m]\u001b[39m\u001b[38;5;124m'\u001b[39m\n\u001b[0;32m--> 830\u001b[0m \u001b[38;5;28;01mreturn\u001b[39;00m \u001b[38;5;28;43mself\u001b[39;49m\u001b[38;5;241;43m.\u001b[39;49m\u001b[43mexecute\u001b[49m\u001b[43m(\u001b[49m\u001b[43mCommand\u001b[49m\u001b[38;5;241;43m.\u001b[39;49m\u001b[43mFIND_ELEMENT\u001b[49m\u001b[43m,\u001b[49m\u001b[43m \u001b[49m\u001b[43m{\u001b[49m\u001b[38;5;124;43m\"\u001b[39;49m\u001b[38;5;124;43musing\u001b[39;49m\u001b[38;5;124;43m\"\u001b[39;49m\u001b[43m:\u001b[49m\u001b[43m \u001b[49m\u001b[43mby\u001b[49m\u001b[43m,\u001b[49m\u001b[43m \u001b[49m\u001b[38;5;124;43m\"\u001b[39;49m\u001b[38;5;124;43mvalue\u001b[39;49m\u001b[38;5;124;43m\"\u001b[39;49m\u001b[43m:\u001b[49m\u001b[43m \u001b[49m\u001b[43mvalue\u001b[49m\u001b[43m}\u001b[49m\u001b[43m)\u001b[49m[\u001b[38;5;124m\"\u001b[39m\u001b[38;5;124mvalue\u001b[39m\u001b[38;5;124m\"\u001b[39m]\n",
      "File \u001b[0;32m~/Downloads/Rebalance Project/venv/lib/python3.10/site-packages/selenium/webdriver/remote/webdriver.py:440\u001b[0m, in \u001b[0;36mWebDriver.execute\u001b[0;34m(self, driver_command, params)\u001b[0m\n\u001b[1;32m    438\u001b[0m response \u001b[38;5;241m=\u001b[39m \u001b[38;5;28mself\u001b[39m\u001b[38;5;241m.\u001b[39mcommand_executor\u001b[38;5;241m.\u001b[39mexecute(driver_command, params)\n\u001b[1;32m    439\u001b[0m \u001b[38;5;28;01mif\u001b[39;00m response:\n\u001b[0;32m--> 440\u001b[0m     \u001b[38;5;28;43mself\u001b[39;49m\u001b[38;5;241;43m.\u001b[39;49m\u001b[43merror_handler\u001b[49m\u001b[38;5;241;43m.\u001b[39;49m\u001b[43mcheck_response\u001b[49m\u001b[43m(\u001b[49m\u001b[43mresponse\u001b[49m\u001b[43m)\u001b[49m\n\u001b[1;32m    441\u001b[0m     response[\u001b[38;5;124m\"\u001b[39m\u001b[38;5;124mvalue\u001b[39m\u001b[38;5;124m\"\u001b[39m] \u001b[38;5;241m=\u001b[39m \u001b[38;5;28mself\u001b[39m\u001b[38;5;241m.\u001b[39m_unwrap_value(response\u001b[38;5;241m.\u001b[39mget(\u001b[38;5;124m\"\u001b[39m\u001b[38;5;124mvalue\u001b[39m\u001b[38;5;124m\"\u001b[39m, \u001b[38;5;28;01mNone\u001b[39;00m))\n\u001b[1;32m    442\u001b[0m     \u001b[38;5;28;01mreturn\u001b[39;00m response\n",
      "File \u001b[0;32m~/Downloads/Rebalance Project/venv/lib/python3.10/site-packages/selenium/webdriver/remote/errorhandler.py:245\u001b[0m, in \u001b[0;36mErrorHandler.check_response\u001b[0;34m(self, response)\u001b[0m\n\u001b[1;32m    243\u001b[0m         alert_text \u001b[38;5;241m=\u001b[39m value[\u001b[38;5;124m\"\u001b[39m\u001b[38;5;124malert\u001b[39m\u001b[38;5;124m\"\u001b[39m]\u001b[38;5;241m.\u001b[39mget(\u001b[38;5;124m\"\u001b[39m\u001b[38;5;124mtext\u001b[39m\u001b[38;5;124m\"\u001b[39m)\n\u001b[1;32m    244\u001b[0m     \u001b[38;5;28;01mraise\u001b[39;00m exception_class(message, screen, stacktrace, alert_text)  \u001b[38;5;66;03m# type: ignore[call-arg]  # mypy is not smart enough here\u001b[39;00m\n\u001b[0;32m--> 245\u001b[0m \u001b[38;5;28;01mraise\u001b[39;00m exception_class(message, screen, stacktrace)\n",
      "\u001b[0;31mNoSuchWindowException\u001b[0m: Message: no such window: target window already closed\nfrom unknown error: web view not found\n  (Session info: chrome=111.0.5563.110)\nStacktrace:\n0   chromedriver                        0x0000000102648428 chromedriver + 4899880\n1   chromedriver                        0x00000001025c5a23 chromedriver + 4364835\n2   chromedriver                        0x000000010220fbf6 chromedriver + 474102\n3   chromedriver                        0x00000001021e5cdc chromedriver + 302300\n4   chromedriver                        0x000000010227e85f chromedriver + 927839\n5   chromedriver                        0x0000000102294226 chromedriver + 1016358\n6   chromedriver                        0x0000000102279333 chromedriver + 906035\n7   chromedriver                        0x000000010224355f chromedriver + 685407\n8   chromedriver                        0x0000000102244a7e chromedriver + 690814\n9   chromedriver                        0x000000010261579e chromedriver + 4691870\n10  chromedriver                        0x000000010261a961 chromedriver + 4712801\n11  chromedriver                        0x00000001026212ff chromedriver + 4739839\n12  chromedriver                        0x000000010261b85a chromedriver + 4716634\n13  chromedriver                        0x00000001025edfce chromedriver + 4530126\n14  chromedriver                        0x000000010263b5c8 chromedriver + 4847048\n15  chromedriver                        0x000000010263b747 chromedriver + 4847431\n16  chromedriver                        0x000000010265087f chromedriver + 4933759\n17  libsystem_pthread.dylib             0x00007ff80663d259 _pthread_start + 125\n18  libsystem_pthread.dylib             0x00007ff806638c7b thread_start + 15\n"
     ]
    }
   ],
   "source": [
    "two_fa = \"797962\"\n",
    "two_fa_field = wait.until(EC.presence_of_element_located((By.NAME, 'otpCode')))\n",
    "two_fa_field.send_keys(two_fa)\n",
    "login_button.click()"
   ]
  },
  {
   "cell_type": "code",
   "execution_count": 5,
   "id": "9f7f2f49",
   "metadata": {},
   "outputs": [],
   "source": [
    "time.sleep(5)\n",
    "index_url = f\"https://indices.theice.com/bondIndexAnalysis/showIndexViewerPage?pageTitle=Index%20Viewer\"\n",
    "browser.get(index_url)\n",
    "time.sleep(30)\n",
    "index_list = [\"PLCR\", \"PFAF\", \"PFAN\", \"PFTF\", \"PHGY\", \"P0P4\", \"PFAR\"]\n",
    "# index_list = [\"PHGY\", \"P0P4\", \"PFAR\"]"
   ]
  },
  {
   "cell_type": "code",
   "execution_count": 6,
   "id": "f451c00a",
   "metadata": {},
   "outputs": [
    {
     "name": "stdout",
     "output_type": "stream",
     "text": [
      "Looking for PLCR files...\n",
      "Downloading PLCR Current File...\n",
      "Downloading PLCR Projected File...\n",
      "Looking for PFAF files...\n",
      "Downloading PFAF Current File...\n",
      "Downloading PFAF Projected File...\n",
      "Looking for PFAN files...\n",
      "Downloading PFAN Current File...\n",
      "Downloading PFAN Projected File...\n",
      "Looking for PFTF files...\n",
      "Downloading PFTF Current File...\n",
      "Downloading PFTF Projected File...\n",
      "Looking for PHGY files...\n",
      "Downloading PHGY Current File...\n",
      "Downloading PHGY Projected File...\n",
      "Looking for P0P4 files...\n",
      "Downloading P0P4 Current File...\n",
      "Downloading P0P4 Projected File...\n",
      "Looking for PFAR files...\n",
      "Downloading PFAR Current File...\n",
      "Downloading PFAR Projected File...\n"
     ]
    }
   ],
   "source": [
    "for index in index_list:\n",
    "    print(f\"Looking for {index} files...\")\n",
    "    index_field = wait.until(EC.presence_of_element_located((By.NAME, 'selectedIndex')))\n",
    "    search_button = wait.until(EC.element_to_be_clickable((By.CSS_SELECTOR, '.ice-button.css-onp4ik')))\n",
    "\n",
    "    index_field.clear()\n",
    "    index_field.send_keys(index)\n",
    "    search_button.click()\n",
    "    \n",
    "    close_button = WebDriverWait(browser,30).until(EC.element_to_be_clickable((By.CSS_SELECTOR, '.ice-button.css-1qqe6v6')))\n",
    "    close_button.click()\n",
    "    \n",
    "    constituents_tab = WebDriverWait(browser, 30).until(EC.presence_of_element_located((By.ID, 'controlled-tab-navigator-tab-1')))\n",
    "    constituents_tab.click()\n",
    "\n",
    "    # wait for an element that appears after the page has fully loaded\n",
    "    element_to_wait_for = WebDriverWait(browser, 30).until(EC.presence_of_element_located((By.CSS_SELECTOR, '.css-uuart6')))\n",
    "    time.sleep(45) # optional, just to ensure that everything has fully loaded\n",
    "\n",
    "    # continue with downloading the data\n",
    "    data_download = WebDriverWait(browser,30).until(EC.presence_of_element_located((By.CSS_SELECTOR, '.ice-button.ice-button-download.css-108c8p4')))\n",
    "    browser.execute_script(\"arguments[0].click();\", data_download)\n",
    "    print(f\"Downloading {index} Current File...\")\n",
    "    time.sleep(45)\n",
    "    \n",
    "    # Click on the dropdown to reveal the options\n",
    "    dropdown = WebDriverWait(browser, 30).until(EC.element_to_be_clickable((By.CSS_SELECTOR, '.css-uuart6')))\n",
    "    dropdown.click()\n",
    "\n",
    "    # Click on the \"Projected\" option\n",
    "    projected_option = WebDriverWait(browser, 30).until(EC.element_to_be_clickable((By.ID, \"downshift-9-item-1\")))\n",
    "    projected_option.click()\n",
    "    data_download = wait.until(EC.presence_of_element_located((By.CSS_SELECTOR, '.ice-button.ice-button-download.css-108c8p4')))\n",
    "    browser.execute_script(\"arguments[0].click();\", data_download)\n",
    "    print(f\"Downloading {index} Projected File...\")\n",
    "    time.sleep(45)"
   ]
  },
  {
   "cell_type": "code",
   "execution_count": null,
   "id": "4af2ce04",
   "metadata": {},
   "outputs": [],
   "source": []
  },
  {
   "cell_type": "code",
   "execution_count": 7,
   "id": "cbea7a9e",
   "metadata": {},
   "outputs": [
    {
     "name": "stdout",
     "output_type": "stream",
     "text": [
      "PLCR-Projected.xlsx\n",
      "PLCR-Current.xlsx\n",
      "PFAF-Projected.xlsx\n",
      "PFAF-Current.xlsx\n",
      "PFAN-Current.xlsx\n",
      "PFAN-Projected.xlsx\n",
      "PFTF-Current.xlsx\n",
      "PFTF-Projected.xlsx\n",
      "PHGY-Projected.xlsx\n",
      "PHGY-Current.xlsx\n",
      "P0P4-Projected.xlsx\n",
      "P0P4-Current.xlsx\n",
      "PFAR-Current.xlsx\n",
      "PFAR-Projected.xlsx\n"
     ]
    }
   ],
   "source": [
    "import os\n",
    "import fnmatch\n",
    "\n",
    "download_path = r\"/Users/sahilkhan/Downloads\"\n",
    "patterns = [\"PLCR*\", \"PFAF*\", \"PFAN*\", \"PFTF*\", \"CIPS*\", \"PHGY*\", \"P0P4*\", \"PFAR*\"]\n",
    "\n",
    "for file_pattern in patterns:\n",
    "    # loop through all files in the directory and filter based on the filename pattern\n",
    "    for file_name in os.listdir(download_path):\n",
    "        if fnmatch.fnmatch(file_name, file_pattern):\n",
    "            # determine the new file name based on the presence of '(1)' in the file name\n",
    "            if '(1)' in file_name:\n",
    "                new_file_name = f'{file_pattern[:-1]}-Projected' + os.path.splitext(file_name)[-1] # add file extension\n",
    "                print(new_file_name)\n",
    "            else:\n",
    "                new_file_name = f'{file_pattern[:-1]}-Current' + os.path.splitext(file_name)[-1] # add file extension\n",
    "                print(new_file_name)\n",
    "            # construct the full file paths for the source and destination files\n",
    "            src_file_path = os.path.join(download_path, file_name)\n",
    "            dst_file_path = os.path.join(download_path, new_file_name)\n",
    "\n",
    "            # rename the file\n",
    "            os.rename(src_file_path, dst_file_path)"
   ]
  },
  {
   "cell_type": "code",
   "execution_count": 8,
   "id": "99c986b1",
   "metadata": {},
   "outputs": [
    {
     "name": "stdout",
     "output_type": "stream",
     "text": [
      "Deleting /Users/sahilkhan/Downloads/Rebalance Project/Data/PFAR-Projected.xlsx\n",
      "Moved PFAR-Projected.xlsx to /Users/sahilkhan/Downloads/Rebalance Project/Data/\n",
      "Deleting /Users/sahilkhan/Downloads/Rebalance Project/Data/PFAN-Current.xlsx\n",
      "Moved PFAN-Current.xlsx to /Users/sahilkhan/Downloads/Rebalance Project/Data/\n",
      "Deleting /Users/sahilkhan/Downloads/Rebalance Project/Data/PHGY-Current.xlsx\n",
      "Moved PHGY-Current.xlsx to /Users/sahilkhan/Downloads/Rebalance Project/Data/\n",
      "Deleting /Users/sahilkhan/Downloads/Rebalance Project/Data/PLCR-Current.xlsx\n",
      "Moved PLCR-Current.xlsx to /Users/sahilkhan/Downloads/Rebalance Project/Data/\n",
      "Deleting /Users/sahilkhan/Downloads/Rebalance Project/Data/PHGY-Projected.xlsx\n",
      "Moved PHGY-Projected.xlsx to /Users/sahilkhan/Downloads/Rebalance Project/Data/\n",
      "Deleting /Users/sahilkhan/Downloads/Rebalance Project/Data/PLCR-Projected.xlsx\n",
      "Moved PLCR-Projected.xlsx to /Users/sahilkhan/Downloads/Rebalance Project/Data/\n",
      "Deleting /Users/sahilkhan/Downloads/Rebalance Project/Data/P0P4-Projected.xlsx\n",
      "Moved P0P4-Projected.xlsx to /Users/sahilkhan/Downloads/Rebalance Project/Data/\n",
      "Deleting /Users/sahilkhan/Downloads/Rebalance Project/Data/P0P4-Current.xlsx\n",
      "Moved P0P4-Current.xlsx to /Users/sahilkhan/Downloads/Rebalance Project/Data/\n",
      "Deleting /Users/sahilkhan/Downloads/Rebalance Project/Data/PFAF-Current.xlsx\n",
      "Moved PFAF-Current.xlsx to /Users/sahilkhan/Downloads/Rebalance Project/Data/\n",
      "Deleting /Users/sahilkhan/Downloads/Rebalance Project/Data/PFTF-Current.xlsx\n",
      "Moved PFTF-Current.xlsx to /Users/sahilkhan/Downloads/Rebalance Project/Data/\n",
      "Deleting /Users/sahilkhan/Downloads/Rebalance Project/Data/PFAR-Current.xlsx\n",
      "Moved PFAR-Current.xlsx to /Users/sahilkhan/Downloads/Rebalance Project/Data/\n",
      "Deleting /Users/sahilkhan/Downloads/Rebalance Project/Data/PFTF-Projected.xlsx\n",
      "Moved PFTF-Projected.xlsx to /Users/sahilkhan/Downloads/Rebalance Project/Data/\n",
      "Deleting /Users/sahilkhan/Downloads/Rebalance Project/Data/PFAN-Projected.xlsx\n",
      "Moved PFAN-Projected.xlsx to /Users/sahilkhan/Downloads/Rebalance Project/Data/\n",
      "Deleting /Users/sahilkhan/Downloads/Rebalance Project/Data/PFAF-Projected.xlsx\n",
      "Moved PFAF-Projected.xlsx to /Users/sahilkhan/Downloads/Rebalance Project/Data/\n"
     ]
    }
   ],
   "source": [
    "# Path where files have to be transferred\n",
    "target_path = r\"/Users/sahilkhan/Downloads/Rebalance Project/Data/\"\n",
    "\n",
    "import os\n",
    "import shutil\n",
    "        \n",
    "for file_name in os.listdir(download_path):\n",
    "    if file_name.endswith(\"-Current.xlsx\") or file_name.endswith(\"-Projected.xlsx\"):\n",
    "        file_path = os.path.join(target_path, file_name)\n",
    "        try:\n",
    "            if os.path.isfile(file_path):\n",
    "                print(\"Deleting {}\".format(file_path))\n",
    "            else:\n",
    "                 print(\"File not present\")   \n",
    "        except Exception as e:\n",
    "            print(f'Error deleting file: {file_path}', e)\n",
    "        \n",
    "        source_file_path = os.path.join(download_path, file_name)\n",
    "        target_file_path = os.path.join(target_path, file_name)\n",
    "        shutil.move(source_file_path, target_file_path)\n",
    "        print(f\"Moved {file_name} to {target_path}\")"
   ]
  },
  {
   "cell_type": "code",
   "execution_count": null,
   "id": "81aebd6f",
   "metadata": {},
   "outputs": [],
   "source": []
  }
 ],
 "metadata": {
  "kernelspec": {
   "display_name": "Python 3 (ipykernel)",
   "language": "python",
   "name": "python3"
  },
  "language_info": {
   "codemirror_mode": {
    "name": "ipython",
    "version": 3
   },
   "file_extension": ".py",
   "mimetype": "text/x-python",
   "name": "python",
   "nbconvert_exporter": "python",
   "pygments_lexer": "ipython3",
   "version": "3.10.10"
  }
 },
 "nbformat": 4,
 "nbformat_minor": 5
}
