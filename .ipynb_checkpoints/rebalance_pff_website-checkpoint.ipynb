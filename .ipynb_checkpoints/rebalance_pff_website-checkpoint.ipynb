{
 "cells": [
  {
   "cell_type": "code",
   "execution_count": 1,
   "id": "c2f8d81d",
   "metadata": {},
   "outputs": [],
   "source": [
    "import pandas as pd\n",
    "import numpy as np"
   ]
  },
  {
   "cell_type": "code",
   "execution_count": 2,
   "id": "8d96db73",
   "metadata": {},
   "outputs": [],
   "source": [
    "index_name = \"PHGY\"\n",
    "etf_name = \"PFF\"\n",
    "\n",
    "# Output File Name\n",
    "outputFile = '{} Rebalancing Numbers.xlsx'.format(etf_name)\n",
    "\n",
    "# Total market Cap for PFF, needs to be manually updated\n",
    "# Can be automated later\n",
    "current_pff_market_cap = 13708086021\n",
    "\n",
    "# Reading ICE Data For Projected Universe\n",
    "projected_universe_df = pd.read_excel('Data/PHGY-Projected.xlsx', skiprows=[0])\n",
    "\n",
    "# Reading PFF Website Data for Current Shares\n",
    "pff_current_holdings_df = pd.read_excel('Data/PFF_Website_Data.xlsx')\n",
    "pff_current_holdings_df = pff_current_holdings_df[['ISIN', 'Shares']]\n",
    "pff_current_holdings_df.rename(columns = {'ISIN':'ISIN number', 'Shares': 'Current PFF Shares'}, inplace=True)\n",
    "\n",
    "# DataFrame for our final Output\n",
    "pff_df = pd.DataFrame()"
   ]
  },
  {
   "cell_type": "code",
   "execution_count": 3,
   "id": "ab0cb414",
   "metadata": {},
   "outputs": [],
   "source": [
    "# When reading data, below strings are read, they must be marked as np.nan\n",
    "msg1 = 'Any unauthorized use or disclosure is prohibited. Nothing herein should in any way be deemed to alter the legal rights and obligations contained in agreements between any ICE Data Services entity (\"ICE\") and their clients relating to any of the Indices or products or services described herein. The information provided by ICE and contained herein is subject to change without notice and does not constitute any form of representation, or undertaking.  ICE and its affiliates make no warranties whatsoever, either express or implied, as to merchantability, fitness for a particular purpose, or any other matter in connection with the information provided. Without limiting the foregoing, ICE and its affiliates makes no representation or warranty that any information provided hereunder are complete or free from errors, omissions, or defects. All information provided by ICE is owned by or licensed to ICE. ICE retains exclusive ownership of the ICE Indices, including the ICE BofAML Indexes, and the analytics used to create this analysis ICE may in its absolute discretion and without prior notice revise or terminate the ICE information and analytics at any time. The information in this analysis is for internal use only and redistribution of this information to third parties is expressly prohibited.'\n",
    "msg2 = 'Neither the analysis nor the information contained therein constitutes investment advice or an offer  or an invitation to make an offer  to buy or sell any securities or any options  futures or other derivatives related to such securities. The information and calculations contained in this analysis have been obtained from a variety of sources  including those other than ICE and ICE does not guarantee their accuracy.  Prior to relying on any ICE information and/or the execution of a security trade based upon such ICE information, you are advised to consult with your broker or other financial representative to verify pricing information. There is no assurance that hypothetical results will be equal to actual performance under any market conditions. THE ICE INFORMATION IS PROVIDED TO THE USERS \"AS IS.\" NEITHER ICE, NOR ITS AFFILIATES, NOR ANY THIRD PARTY DATA PROVIDER WILL BE LIABLE TO ANY USER OR ANYONE ELSE FOR ANY INTERRUPTION, INACCURACY, ERROR OR OMISSION, REGARDLESS OF CAUSE, IN THE ICE INFORMATION OR FOR ANY DAMAGES RESULTING THEREFROM. In no event shall ICE or any of its affiliates, employees  officers  directors or agents of any such persons have any liability to any person or entity relating to or arising out of this information, analysis  or the indices  contained herein.'"
   ]
  },
  {
   "cell_type": "code",
   "execution_count": 4,
   "id": "8cab072c",
   "metadata": {},
   "outputs": [],
   "source": [
    "# Projected Universe Data\n",
    "projected_universe_df = projected_universe_df.replace('NaN', np.nan)\n",
    "projected_universe_df = projected_universe_df.replace(msg1, np.nan)\n",
    "projected_universe_df= projected_universe_df.replace(msg2, np.nan)\n",
    "\n",
    "#drop row if ISIN number is Nan\n",
    "projected_universe_df.dropna(subset=['ISIN number'], inplace=True)"
   ]
  },
  {
   "cell_type": "code",
   "execution_count": 5,
   "id": "178f01e6",
   "metadata": {},
   "outputs": [],
   "source": [
    "# Storing the unique ISIN ID's from both the current and projected universe data\n",
    "unique_ISIN = pd.concat([pff_current_holdings_df['ISIN number'], projected_universe_df['ISIN number']]).drop_duplicates().reset_index(drop=True)\n",
    "pff_df['ISIN number'] = unique_ISIN"
   ]
  },
  {
   "cell_type": "code",
   "execution_count": 6,
   "id": "f5bf34e0",
   "metadata": {},
   "outputs": [],
   "source": [
    "isin_to_ticker_df = pd.read_excel('Static Data/ISINtoTicker.xlsx')\n",
    "pff_df = pff_df.merge(isin_to_ticker_df, left_on='ISIN number', right_on='ISIN', how='left').drop(['ISIN'], axis=1)"
   ]
  },
  {
   "cell_type": "code",
   "execution_count": 7,
   "id": "a0d63590",
   "metadata": {},
   "outputs": [
    {
     "name": "stderr",
     "output_type": "stream",
     "text": [
      "/var/folders/3f/bwblj7n13596fl7z3cp9q_c40000gn/T/ipykernel_2685/2335501598.py:1: FutureWarning: The default value of regex will change from True to False in a future version.\n",
      "  pff_df['Activ Ticker'] = pff_df['Ticker'].str.replace(\".PR\",\"p\")\n"
     ]
    }
   ],
   "source": [
    "pff_df['Activ Ticker'] = pff_df['Ticker'].str.replace(\".PR\",\"p\", regex=False)"
   ]
  },
  {
   "cell_type": "code",
   "execution_count": 8,
   "id": "6d406ffc",
   "metadata": {},
   "outputs": [],
   "source": [
    "# getting the ActivDiv for reading the prices\n",
    "activ_df = pd.read_excel('Static Data/ACtivDivData.xlsx', 'PasteByValues')\n",
    "activ_df = activ_df[['Activ Ticker', 'Last Price']]"
   ]
  },
  {
   "cell_type": "code",
   "execution_count": 9,
   "id": "95c9492b",
   "metadata": {},
   "outputs": [],
   "source": [
    "def getProjectedMarketCap(x):\n",
    "    isid = x['ISIN number']\n",
    "    ticker = projected_universe_df[projected_universe_df['ISIN number']==isid]\n",
    "    if(len(ticker)>0):\n",
    "        return ticker.iloc[0]['% Mkt Value']\n",
    "    return 0\n",
    "\n",
    "pff_df['Projected % Mkt Cap'] = pff_df.apply(getProjectedMarketCap, axis=1)"
   ]
  },
  {
   "cell_type": "code",
   "execution_count": 10,
   "id": "54ad0c86",
   "metadata": {},
   "outputs": [],
   "source": [
    "def getLastPrice(x):\n",
    "    activTicker = x['Activ Ticker']\n",
    "    ticker = activ_df[activ_df['Activ Ticker']==activTicker]\n",
    "    if(len(ticker)>0):\n",
    "        return ticker.iloc[0]['Last Price']\n",
    "    return np.nan\n",
    "\n",
    "pff_df['Last Price'] = pff_df.apply(getLastPrice, axis=1)"
   ]
  },
  {
   "cell_type": "code",
   "execution_count": 11,
   "id": "304c37e6",
   "metadata": {},
   "outputs": [],
   "source": [
    "def getCurrentPFFShares(x):\n",
    "    isid = x['ISIN number']\n",
    "    ticker = pff_current_holdings_df[pff_current_holdings_df['ISIN number']==isid]\n",
    "    if(len(ticker)>0):\n",
    "        return ticker.iloc[0]['Current PFF Shares']\n",
    "    return 0\n",
    "\n",
    "pff_df['Current PFF Shares'] = pff_df.apply(getCurrentPFFShares, axis=1)"
   ]
  },
  {
   "cell_type": "code",
   "execution_count": 12,
   "id": "cd354166",
   "metadata": {},
   "outputs": [],
   "source": [
    "def getProjectedPFFShares(x):\n",
    "    if(not isinstance(x['Last Price'], str)):\n",
    "        return np.rint((current_pff_market_cap*x['Projected % Mkt Cap'])/(x['Last Price']*100))\n",
    "    return np.nan\n",
    "\n",
    "pff_df['Projected PFF Shares'] = pff_df.apply(getProjectedPFFShares, axis=1)\n",
    "pff_df['Difference'] = pff_df.apply(lambda x: x['Projected PFF Shares']-x['Current PFF Shares'], axis=1)"
   ]
  },
  {
   "cell_type": "code",
   "execution_count": 13,
   "id": "21c06389",
   "metadata": {},
   "outputs": [],
   "source": [
    "total_buys_ice = pff_df['Difference'].where(pff_df['Difference']>0).sum()\n",
    "total_sells_ice = pff_df['Difference'].where(pff_df['Difference']<0).sum()\n",
    "total_pff_transactions_df = pd.DataFrame({\"Number of Shares\":[total_buys_ice, total_sells_ice]}, index=['Total PFF Buys', 'Total PFF Sells'])"
   ]
  },
  {
   "cell_type": "code",
   "execution_count": 14,
   "id": "725b81b3",
   "metadata": {},
   "outputs": [],
   "source": [
    "with pd.ExcelWriter(outputFile, mode=\"a\", if_sheet_exists=\"replace\") as writer:\n",
    "    pff_df.to_excel(writer, sheet_name='PFF')\n",
    "    total_pff_transactions_df.to_excel(writer, sheet_name='Total Transactions - PFF')"
   ]
  }
 ],
 "metadata": {
  "kernelspec": {
   "display_name": "Python 3 (ipykernel)",
   "language": "python",
   "name": "python3"
  },
  "language_info": {
   "codemirror_mode": {
    "name": "ipython",
    "version": 3
   },
   "file_extension": ".py",
   "mimetype": "text/x-python",
   "name": "python",
   "nbconvert_exporter": "python",
   "pygments_lexer": "ipython3",
   "version": "3.10.10"
  }
 },
 "nbformat": 4,
 "nbformat_minor": 5
}
