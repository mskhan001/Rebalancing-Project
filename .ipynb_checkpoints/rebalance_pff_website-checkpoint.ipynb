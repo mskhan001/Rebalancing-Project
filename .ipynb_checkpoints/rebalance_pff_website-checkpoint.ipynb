{
 "cells": [
  {
   "cell_type": "code",
   "execution_count": 1,
   "id": "c2f8d81d",
   "metadata": {},
   "outputs": [],
   "source": [
    "import pandas as pd\n",
    "import numpy as np\n",
    "from babel.numbers import format_currency"
   ]
  },
  {
   "cell_type": "code",
   "execution_count": 2,
   "id": "8d96db73",
   "metadata": {},
   "outputs": [],
   "source": [
    "index_name = \"PHGY\"\n",
    "etf_name = \"PFF\"\n",
    "\n",
    "# Output File Name\n",
    "outputFile = 'Output/ETF/{} ETF vs ICE.xlsx'.format(etf_name)\n",
    "\n",
    "# Total market Cap for PFF, needs to be manually updated\n",
    "# Can be automated later\n",
    "current_pff_market_cap = 12732132625\n",
    "current_pff_cash = 90000000\n",
    "\n",
    "# Reading ICE Data For Projected Universe\n",
    "projected_universe_df = pd.read_excel('Data/PHGY-Projected.xlsx', skiprows=[0])\n",
    "\n",
    "# Reading PFF Website Data for Current Shares\n",
    "pff_current_holdings_df = pd.read_excel('Data/PFF_Website_Data.xlsx')\n",
    "pff_current_holdings_df = pff_current_holdings_df[['ISIN', 'Shares']]\n",
    "pff_current_holdings_df.rename(columns = {'ISIN':'ISIN number', 'Shares': 'Current PFF Shares'}, inplace=True)\n",
    "\n",
    "# DataFrame for our final Output\n",
    "pff_df = pd.DataFrame()"
   ]
  },
  {
   "cell_type": "code",
   "execution_count": 3,
   "id": "ab0cb414",
   "metadata": {},
   "outputs": [],
   "source": [
    "# When reading data, below strings are read, they must be marked as np.nan\n",
    "msg1 = 'Any unauthorized use or disclosure is prohibited. Nothing herein should in any way be deemed to alter the legal rights and obligations contained in agreements between any ICE Data Services entity (\"ICE\") and their clients relating to any of the Indices or products or services described herein. The information provided by ICE and contained herein is subject to change without notice and does not constitute any form of representation, or undertaking.  ICE and its affiliates make no warranties whatsoever, either express or implied, as to merchantability, fitness for a particular purpose, or any other matter in connection with the information provided. Without limiting the foregoing, ICE and its affiliates makes no representation or warranty that any information provided hereunder are complete or free from errors, omissions, or defects. All information provided by ICE is owned by or licensed to ICE. ICE retains exclusive ownership of the ICE Indices, including the ICE BofAML Indexes, and the analytics used to create this analysis ICE may in its absolute discretion and without prior notice revise or terminate the ICE information and analytics at any time. The information in this analysis is for internal use only and redistribution of this information to third parties is expressly prohibited.'\n",
    "msg2 = 'Neither the analysis nor the information contained therein constitutes investment advice or an offer  or an invitation to make an offer  to buy or sell any securities or any options  futures or other derivatives related to such securities. The information and calculations contained in this analysis have been obtained from a variety of sources  including those other than ICE and ICE does not guarantee their accuracy.  Prior to relying on any ICE information and/or the execution of a security trade based upon such ICE information, you are advised to consult with your broker or other financial representative to verify pricing information. There is no assurance that hypothetical results will be equal to actual performance under any market conditions. THE ICE INFORMATION IS PROVIDED TO THE USERS \"AS IS.\" NEITHER ICE, NOR ITS AFFILIATES, NOR ANY THIRD PARTY DATA PROVIDER WILL BE LIABLE TO ANY USER OR ANYONE ELSE FOR ANY INTERRUPTION, INACCURACY, ERROR OR OMISSION, REGARDLESS OF CAUSE, IN THE ICE INFORMATION OR FOR ANY DAMAGES RESULTING THEREFROM. In no event shall ICE or any of its affiliates, employees  officers  directors or agents of any such persons have any liability to any person or entity relating to or arising out of this information, analysis  or the indices  contained herein.'"
   ]
  },
  {
   "cell_type": "code",
   "execution_count": 4,
   "id": "8cab072c",
   "metadata": {},
   "outputs": [],
   "source": [
    "# Projected Universe Data\n",
    "projected_universe_df = projected_universe_df.replace('NaN', np.nan)\n",
    "projected_universe_df = projected_universe_df.replace(msg1, np.nan)\n",
    "projected_universe_df= projected_universe_df.replace(msg2, np.nan)\n",
    "\n",
    "#drop row if ISIN number is Nan\n",
    "projected_universe_df.dropna(subset=['ISIN number'], inplace=True)"
   ]
  },
  {
   "cell_type": "code",
   "execution_count": 5,
   "id": "178f01e6",
   "metadata": {},
   "outputs": [],
   "source": [
    "# Storing the unique ISIN ID's from both the current and projected universe data\n",
    "unique_ISIN = pd.concat([pff_current_holdings_df['ISIN number'], projected_universe_df['ISIN number']]).drop_duplicates().reset_index(drop=True)\n",
    "pff_df['ISIN number'] = unique_ISIN"
   ]
  },
  {
   "cell_type": "code",
   "execution_count": 6,
   "id": "f5bf34e0",
   "metadata": {},
   "outputs": [],
   "source": [
    "isin_to_ticker_df = pd.read_excel('Static Data/ISINtoTicker.xlsx')\n",
    "pff_df = pff_df.merge(isin_to_ticker_df, left_on='ISIN number', right_on='ISIN', how='left').drop(['ISIN'], axis=1)"
   ]
  },
  {
   "cell_type": "code",
   "execution_count": 7,
   "id": "95c9492b",
   "metadata": {},
   "outputs": [],
   "source": [
    "def getProjectedMarketCap(x):\n",
    "    isid = x['ISIN number']\n",
    "    ticker = projected_universe_df[projected_universe_df['ISIN number']==isid]\n",
    "    if(len(ticker)>0):\n",
    "        return ticker.iloc[0]['% Mkt Value']\n",
    "    return 0\n",
    "\n",
    "pff_df['Projected % Mkt Cap'] = pff_df.apply(getProjectedMarketCap, axis=1)"
   ]
  },
  {
   "cell_type": "code",
   "execution_count": 8,
   "id": "304c37e6",
   "metadata": {},
   "outputs": [],
   "source": [
    "def getCurrentPFFShares(x):\n",
    "    isid = x['ISIN number']\n",
    "    ticker = pff_current_holdings_df[pff_current_holdings_df['ISIN number']==isid]\n",
    "    if(len(ticker)>0):\n",
    "        return ticker.iloc[0]['Current PFF Shares']\n",
    "    return 0\n",
    "\n",
    "pff_df['Current PFF Shares'] = pff_df.apply(getCurrentPFFShares, axis=1)"
   ]
  },
  {
   "cell_type": "code",
   "execution_count": 9,
   "id": "cd354166",
   "metadata": {},
   "outputs": [],
   "source": [
    "def getProjectedPFFShares(x):\n",
    "    if(not isinstance(x['Last Price'], str)):\n",
    "        return np.rint(((current_pff_market_cap-current_pff_cash)*x['Projected % Mkt Cap'])/(x['Last Price']*100))\n",
    "    return np.nan\n",
    "\n",
    "pff_df['Projected PFF Shares'] = pff_df.apply(getProjectedPFFShares, axis=1)\n",
    "pff_df['Difference'] = pff_df.apply(lambda x: x['Projected PFF Shares']-x['Current PFF Shares'], axis=1)"
   ]
  },
  {
   "cell_type": "code",
   "execution_count": 10,
   "id": "bad0362a",
   "metadata": {},
   "outputs": [],
   "source": [
    "pff_df.drop(['Activ Ticker', 'Bloomberg File Ticker', 'Activ Last Price Formula'], axis=1, inplace=True)"
   ]
  },
  {
   "cell_type": "code",
   "execution_count": 11,
   "id": "289c064b",
   "metadata": {},
   "outputs": [],
   "source": [
    "def getDifference(x):\n",
    "    if((not isinstance(x['Projected PFF Shares'], str)) and (not isinstance(x['Current PFF Shares'], str))):\n",
    "        return x['Projected PFF Shares']-x['Current PFF Shares']\n",
    "    return np.nan\n",
    "\n",
    "def getDollarDifference(x):\n",
    "    if((not isinstance(x['Last Price'], str)) and (not isinstance(x['Difference'], str))):\n",
    "        return x['Last Price']*x['Difference']\n",
    "    return np.nan\n",
    "\n",
    "pff_df['Difference'] = pff_df.apply(getDifference, axis=1)\n",
    "pff_df['Difference $'] = pff_df.apply(getDollarDifference, axis=1)"
   ]
  },
  {
   "cell_type": "code",
   "execution_count": 12,
   "id": "854ec4dc",
   "metadata": {},
   "outputs": [],
   "source": [
    "old_df = pd.read_excel('Old/{} ETF vs ICE.xlsx'.format(etf_name), sheet_name=etf_name)\n",
    "old_df = old_df[['ISIN number','Difference']]\n",
    "old_df.rename(columns={'Difference':'Difference Yesterday'}, inplace=True)"
   ]
  },
  {
   "cell_type": "code",
   "execution_count": 13,
   "id": "d01a082b",
   "metadata": {},
   "outputs": [],
   "source": [
    "# pff_df.sort_values('Difference')\n",
    "# pff_df.sort_values(by='Difference $', key=abs, ascending=False, inplace=True)\n",
    "# pff_df['Difference $'] = pff_df['Difference $'].apply(lambda x: format_currency(x, currency=\"USD\", locale=\"en_US\"))\n",
    "\n",
    "pff_df = pff_df.merge(old_df, left_on='ISIN number', right_on='ISIN number', how='outer')\n",
    "pff_df['Difference of Difference'] = pff_df['Difference'] - pff_df['Difference Yesterday']"
   ]
  },
  {
   "cell_type": "code",
   "execution_count": 14,
   "id": "21c06389",
   "metadata": {},
   "outputs": [],
   "source": [
    "# Number of Shares\n",
    "total_buys_ice = pff_df['Difference'].where(pff_df['Difference']>0).sum()\n",
    "total_sells_ice = pff_df['Difference'].where(pff_df['Difference']<0).sum()\n",
    "\n",
    "# Dollar value\n",
    "\n",
    "total_dollar_buying = pff_df[pff_df['Difference']>0].apply(lambda x: x['Last Price']*x['Difference'], axis=1).sum()\n",
    "total_dollar_selling = pff_df[pff_df['Difference']<0].apply(lambda x: x['Last Price']*x['Difference'], axis=1).sum()\n",
    "\n",
    "total_pff_transactions_df = pd.DataFrame({\" \":[total_buys_ice, \n",
    "                                               total_sells_ice,\n",
    "                                               total_dollar_buying,\n",
    "                                               total_dollar_selling,\n",
    "                                               current_pff_market_cap,\n",
    "                                               current_pff_cash]}, \n",
    "                                         \n",
    "                                         index=['Total PFF Buys (Number of Shares)', \n",
    "                                                'Total PFF Sells (Number of Shares)',\n",
    "                                                'Total PFF Buy (in $)',\n",
    "                                                'Total PFF Sell (in $)',\n",
    "                                                \"PFF Market Cap\",\n",
    "                                                \"PFF Cash\"])"
   ]
  },
  {
   "cell_type": "code",
   "execution_count": 15,
   "id": "725b81b3",
   "metadata": {},
   "outputs": [],
   "source": [
    "with pd.ExcelWriter(outputFile, mode=\"w\") as writer:\n",
    "    pff_df.to_excel(writer, sheet_name='PFF')\n",
    "    total_pff_transactions_df.to_excel(writer, sheet_name='Total Transactions - PFF')\n",
    "    \n",
    "    workbook = writer.book\n",
    "    worksheet = writer.sheets['PFF']\n",
    "\n",
    "    cellFormat = workbook.add_format({'num_format': '#,##0'})\n",
    "    worksheet.set_column('F:J', 10, cellFormat)\n",
    "\n",
    "#     writer.save()"
   ]
  },
  {
   "cell_type": "code",
   "execution_count": 16,
   "id": "ffeebbf4",
   "metadata": {},
   "outputs": [
    {
     "data": {
      "text/html": [
       "<div>\n",
       "<style scoped>\n",
       "    .dataframe tbody tr th:only-of-type {\n",
       "        vertical-align: middle;\n",
       "    }\n",
       "\n",
       "    .dataframe tbody tr th {\n",
       "        vertical-align: top;\n",
       "    }\n",
       "\n",
       "    .dataframe thead th {\n",
       "        text-align: right;\n",
       "    }\n",
       "</style>\n",
       "<table border=\"1\" class=\"dataframe\">\n",
       "  <thead>\n",
       "    <tr style=\"text-align: right;\">\n",
       "      <th></th>\n",
       "      <th>ISIN number</th>\n",
       "      <th>Ticker</th>\n",
       "      <th>Last Price</th>\n",
       "      <th>Projected % Mkt Cap</th>\n",
       "      <th>Current PFF Shares</th>\n",
       "      <th>Projected PFF Shares</th>\n",
       "      <th>Difference</th>\n",
       "      <th>Difference $</th>\n",
       "      <th>Difference Yesterday</th>\n",
       "      <th>Difference of Difference</th>\n",
       "    </tr>\n",
       "  </thead>\n",
       "  <tbody>\n",
       "    <tr>\n",
       "      <th>0</th>\n",
       "      <td>US9497468044</td>\n",
       "      <td>WFC.PRL</td>\n",
       "      <td>1157.5</td>\n",
       "      <td>1.86789</td>\n",
       "      <td>207653.0</td>\n",
       "      <td>204010.0</td>\n",
       "      <td>-3643.0</td>\n",
       "      <td>-4216772.50</td>\n",
       "      <td>-4569.0</td>\n",
       "      <td>926.0</td>\n",
       "    </tr>\n",
       "    <tr>\n",
       "      <th>1</th>\n",
       "      <td>US0669224778</td>\n",
       "      <td>BLK CASH</td>\n",
       "      <td>source not found</td>\n",
       "      <td>0.00000</td>\n",
       "      <td>216807434.0</td>\n",
       "      <td>NaN</td>\n",
       "      <td>NaN</td>\n",
       "      <td>NaN</td>\n",
       "      <td>NaN</td>\n",
       "      <td>NaN</td>\n",
       "    </tr>\n",
       "    <tr>\n",
       "      <th>2</th>\n",
       "      <td>US1730802014</td>\n",
       "      <td>C.PRN</td>\n",
       "      <td>28.65</td>\n",
       "      <td>1.52945</td>\n",
       "      <td>6712436.0</td>\n",
       "      <td>6748869.0</td>\n",
       "      <td>36433.0</td>\n",
       "      <td>1043805.45</td>\n",
       "      <td>65976.0</td>\n",
       "      <td>-29543.0</td>\n",
       "    </tr>\n",
       "    <tr>\n",
       "      <th>3</th>\n",
       "      <td>US69331C1403</td>\n",
       "      <td>PCGU</td>\n",
       "      <td>139.29</td>\n",
       "      <td>1.32941</td>\n",
       "      <td>1195418.0</td>\n",
       "      <td>1206589.0</td>\n",
       "      <td>11171.0</td>\n",
       "      <td>1556008.59</td>\n",
       "      <td>9721.0</td>\n",
       "      <td>1450.0</td>\n",
       "    </tr>\n",
       "    <tr>\n",
       "      <th>4</th>\n",
       "      <td>US0605056821</td>\n",
       "      <td>BAC.PRL</td>\n",
       "      <td>1152.17</td>\n",
       "      <td>1.28333</td>\n",
       "      <td>142486.0</td>\n",
       "      <td>140813.0</td>\n",
       "      <td>-1673.0</td>\n",
       "      <td>-1927580.41</td>\n",
       "      <td>654.0</td>\n",
       "      <td>-2327.0</td>\n",
       "    </tr>\n",
       "  </tbody>\n",
       "</table>\n",
       "</div>"
      ],
      "text/plain": [
       "    ISIN number    Ticker        Last Price  Projected % Mkt Cap  \\\n",
       "0  US9497468044   WFC.PRL            1157.5              1.86789   \n",
       "1  US0669224778  BLK CASH  source not found              0.00000   \n",
       "2  US1730802014     C.PRN             28.65              1.52945   \n",
       "3  US69331C1403      PCGU            139.29              1.32941   \n",
       "4  US0605056821   BAC.PRL           1152.17              1.28333   \n",
       "\n",
       "   Current PFF Shares  Projected PFF Shares  Difference  Difference $  \\\n",
       "0            207653.0              204010.0     -3643.0   -4216772.50   \n",
       "1         216807434.0                   NaN         NaN           NaN   \n",
       "2           6712436.0             6748869.0     36433.0    1043805.45   \n",
       "3           1195418.0             1206589.0     11171.0    1556008.59   \n",
       "4            142486.0              140813.0     -1673.0   -1927580.41   \n",
       "\n",
       "   Difference Yesterday  Difference of Difference  \n",
       "0               -4569.0                     926.0  \n",
       "1                   NaN                       NaN  \n",
       "2               65976.0                  -29543.0  \n",
       "3                9721.0                    1450.0  \n",
       "4                 654.0                   -2327.0  "
      ]
     },
     "execution_count": 16,
     "metadata": {},
     "output_type": "execute_result"
    }
   ],
   "source": [
    "pff_df.head()"
   ]
  },
  {
   "cell_type": "code",
   "execution_count": null,
   "id": "80e8e896",
   "metadata": {},
   "outputs": [],
   "source": []
  }
 ],
 "metadata": {
  "kernelspec": {
   "display_name": "Python 3 (ipykernel)",
   "language": "python",
   "name": "python3"
  },
  "language_info": {
   "codemirror_mode": {
    "name": "ipython",
    "version": 3
   },
   "file_extension": ".py",
   "mimetype": "text/x-python",
   "name": "python",
   "nbconvert_exporter": "python",
   "pygments_lexer": "ipython3",
   "version": "3.10.10"
  }
 },
 "nbformat": 4,
 "nbformat_minor": 5
}
