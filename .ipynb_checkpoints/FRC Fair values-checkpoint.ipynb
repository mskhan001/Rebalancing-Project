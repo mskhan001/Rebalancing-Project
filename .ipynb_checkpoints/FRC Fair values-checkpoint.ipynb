{
 "cells": [
  {
   "cell_type": "code",
   "execution_count": 18,
   "id": "b3569e48",
   "metadata": {},
   "outputs": [],
   "source": [
    "import pandas as pd"
   ]
  },
  {
   "cell_type": "code",
   "execution_count": 19,
   "id": "7c2f3d3b",
   "metadata": {},
   "outputs": [],
   "source": [
    "coupons = {\n",
    "    'FRC PRI': 5.50,\n",
    "    'FRC PRH': 5.125,\n",
    "    'FRC PRJ': 4.70,\n",
    "    'FRC PRN': 4.50,\n",
    "    'FRC PRL': 4.25,\n",
    "    'FRC PRK': 4.125,\n",
    "    'FRC PRM': 4.00\n",
    "}"
   ]
  },
  {
   "cell_type": "code",
   "execution_count": null,
   "id": "e45eb552",
   "metadata": {},
   "outputs": [],
   "source": [
    "sym1 = 'FRC PR' + input('Enter Preferred Stock 1 ')\n",
    "\n",
    "sym2 = 'FRC PR' + input('Enter Preferred Stock 2 ')\n",
    "fairValue = float(input('Enter Fair Value for the above 2 Preferreds'))\n",
    "\n",
    "# Ratio of Fair Value to coupon\n",
    "# Assumed to be constant for all Preferreds\n",
    "\n",
    "ratio = fairValue/(coupons[sym1]-coupons[sym2])"
   ]
  },
  {
   "cell_type": "code",
   "execution_count": 17,
   "id": "d5e41427",
   "metadata": {},
   "outputs": [
    {
     "data": {
      "text/plain": [
       "0.3478260869565217"
      ]
     },
     "execution_count": 17,
     "metadata": {},
     "output_type": "execute_result"
    }
   ],
   "source": []
  },
  {
   "cell_type": "code",
   "execution_count": null,
   "id": "e0d6b2d8",
   "metadata": {},
   "outputs": [],
   "source": []
  }
 ],
 "metadata": {
  "kernelspec": {
   "display_name": "Python 3 (ipykernel)",
   "language": "python",
   "name": "python3"
  },
  "language_info": {
   "codemirror_mode": {
    "name": "ipython",
    "version": 3
   },
   "file_extension": ".py",
   "mimetype": "text/x-python",
   "name": "python",
   "nbconvert_exporter": "python",
   "pygments_lexer": "ipython3",
   "version": "3.10.10"
  }
 },
 "nbformat": 4,
 "nbformat_minor": 5
}
