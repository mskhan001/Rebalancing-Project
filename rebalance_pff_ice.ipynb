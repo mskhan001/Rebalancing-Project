{
 "cells": [
  {
   "cell_type": "code",
   "execution_count": 1,
   "id": "ad3f4819",
   "metadata": {},
   "outputs": [],
   "source": [
    "import pandas as pd\n",
    "import numpy as np\n",
    "import math"
   ]
  },
  {
   "cell_type": "code",
   "execution_count": 2,
   "id": "145259eb",
   "metadata": {},
   "outputs": [],
   "source": [
    "# Output file name\n",
    "outputFile = 'ICE Current vs Projected Rebalance.xlsx'\n",
    "\n",
    "# Total market Cap for PFF, needs to be manually updated\n",
    "# Can be automated later\n",
    "current_pff_market_cap = 13708086021\n",
    "\n",
    "# Reading the ICE Data for Current and Projected Universe\n",
    "ice_currentUniverse_df = pd.read_excel('Data/PHGY-Current.xlsx', skiprows=[0])\n",
    "ice_projectedUniverse_df = pd.read_excel('Data/PHGY-Projected.xlsx', skiprows=[0])\n",
    "\n",
    "# DataFrame for our final Output\n",
    "pff_df = pd.DataFrame()"
   ]
  },
  {
   "cell_type": "code",
   "execution_count": 3,
   "id": "7b04d83a",
   "metadata": {},
   "outputs": [],
   "source": [
    "# When reading data, below strings are read, they must be marked as np.nan\n",
    "msg1 = 'Any unauthorized use or disclosure is prohibited. Nothing herein should in any way be deemed to alter the legal rights and obligations contained in agreements between any ICE Data Services entity (\"ICE\") and their clients relating to any of the Indices or products or services described herein. The information provided by ICE and contained herein is subject to change without notice and does not constitute any form of representation, or undertaking.  ICE and its affiliates make no warranties whatsoever, either express or implied, as to merchantability, fitness for a particular purpose, or any other matter in connection with the information provided. Without limiting the foregoing, ICE and its affiliates makes no representation or warranty that any information provided hereunder are complete or free from errors, omissions, or defects. All information provided by ICE is owned by or licensed to ICE. ICE retains exclusive ownership of the ICE Indices, including the ICE BofAML Indexes, and the analytics used to create this analysis ICE may in its absolute discretion and without prior notice revise or terminate the ICE information and analytics at any time. The information in this analysis is for internal use only and redistribution of this information to third parties is expressly prohibited.'\n",
    "msg2 = 'Neither the analysis nor the information contained therein constitutes investment advice or an offer  or an invitation to make an offer  to buy or sell any securities or any options  futures or other derivatives related to such securities. The information and calculations contained in this analysis have been obtained from a variety of sources  including those other than ICE and ICE does not guarantee their accuracy.  Prior to relying on any ICE information and/or the execution of a security trade based upon such ICE information, you are advised to consult with your broker or other financial representative to verify pricing information. There is no assurance that hypothetical results will be equal to actual performance under any market conditions. THE ICE INFORMATION IS PROVIDED TO THE USERS \"AS IS.\" NEITHER ICE, NOR ITS AFFILIATES, NOR ANY THIRD PARTY DATA PROVIDER WILL BE LIABLE TO ANY USER OR ANYONE ELSE FOR ANY INTERRUPTION, INACCURACY, ERROR OR OMISSION, REGARDLESS OF CAUSE, IN THE ICE INFORMATION OR FOR ANY DAMAGES RESULTING THEREFROM. In no event shall ICE or any of its affiliates, employees  officers  directors or agents of any such persons have any liability to any person or entity relating to or arising out of this information, analysis  or the indices  contained herein.'"
   ]
  },
  {
   "cell_type": "code",
   "execution_count": 4,
   "id": "aa8f563c",
   "metadata": {},
   "outputs": [],
   "source": [
    "# Current Universe Data\n",
    "ice_currentUniverse_df = ice_currentUniverse_df.replace('NaN', np.nan)\n",
    "ice_currentUniverse_df = ice_currentUniverse_df.replace(msg1, np.nan)\n",
    "ice_currentUniverse_df= ice_currentUniverse_df.replace(msg2, np.nan)\n",
    "\n",
    "#drop row if ISIN number is Nan\n",
    "ice_currentUniverse_df.dropna(subset=['ISIN number'], inplace=True)\n",
    "\n",
    "# Projected Universe Data\n",
    "ice_projectedUniverse_df = ice_projectedUniverse_df.replace('NaN', np.nan)\n",
    "ice_projectedUniverse_df = ice_projectedUniverse_df.replace(msg1, np.nan)\n",
    "ice_projectedUniverse_df= ice_projectedUniverse_df.replace(msg2, np.nan)\n",
    "\n",
    "#drop row if ISIN number is Nan\n",
    "ice_projectedUniverse_df.dropna(subset=['ISIN number'], inplace=True)"
   ]
  },
  {
   "cell_type": "code",
   "execution_count": 5,
   "id": "40c5373f",
   "metadata": {},
   "outputs": [],
   "source": [
    "# Storing the unique ISIN ID's from both the current and projected universe data\n",
    "unique_ISIN = pd.concat([ice_currentUniverse_df['ISIN number'], ice_projectedUniverse_df['ISIN number']]).drop_duplicates().reset_index(drop=True)\n",
    "pff_df['ISIN number'] = unique_ISIN"
   ]
  },
  {
   "cell_type": "code",
   "execution_count": 6,
   "id": "5c7082fe",
   "metadata": {},
   "outputs": [],
   "source": [
    "isin_to_ticker_df = pd.read_excel('Static Data/ISINtoTicker.xlsx')\n",
    "pff_df = pff_df.merge(isin_to_ticker_df, left_on='ISIN number', right_on='ISIN', how='left').drop(['ISIN'], axis=1)"
   ]
  },
  {
   "cell_type": "code",
   "execution_count": 7,
   "id": "528a0cd1",
   "metadata": {},
   "outputs": [
    {
     "name": "stderr",
     "output_type": "stream",
     "text": [
      "/var/folders/3f/bwblj7n13596fl7z3cp9q_c40000gn/T/ipykernel_13426/2335501598.py:1: FutureWarning: The default value of regex will change from True to False in a future version.\n",
      "  pff_df['Activ Ticker'] = pff_df['Ticker'].str.replace(\".PR\",\"p\")\n"
     ]
    }
   ],
   "source": [
    "pff_df['Activ Ticker'] = pff_df['Ticker'].str.replace(\".PR\",\"p\")"
   ]
  },
  {
   "cell_type": "code",
   "execution_count": 8,
   "id": "cf39a263",
   "metadata": {},
   "outputs": [],
   "source": [
    "# getting the ActivDiv for reading the prices\n",
    "activ_df = pd.read_excel('Static Data/ACtivDivData.xlsx', 'PasteByValues')\n",
    "activ_df = activ_df[['Activ Ticker', 'Last Price']]"
   ]
  },
  {
   "cell_type": "code",
   "execution_count": 9,
   "id": "e83f373c",
   "metadata": {},
   "outputs": [],
   "source": [
    "def getLastPrice(x):\n",
    "    activTicker = x['Activ Ticker']\n",
    "    ticker = activ_df[activ_df['Activ Ticker']==activTicker]\n",
    "    if(len(ticker)>0):\n",
    "        return ticker.iloc[0]['Last Price']\n",
    "    return np.nan\n",
    "\n",
    "pff_df['Last Price'] = pff_df.apply(getLastPrice, axis=1)"
   ]
  },
  {
   "cell_type": "code",
   "execution_count": 10,
   "id": "be27cc0c",
   "metadata": {},
   "outputs": [],
   "source": [
    "def getCurrentMarketCap(x):\n",
    "    isid = x['ISIN number']\n",
    "    ticker = ice_currentUniverse_df[ice_currentUniverse_df['ISIN number']==isid]\n",
    "    if(len(ticker)>0):\n",
    "        return ticker.iloc[0]['% Mkt Value']\n",
    "    return 0\n",
    "\n",
    "def getProjectedMarketCap(x):\n",
    "    isid = x['ISIN number']\n",
    "    ticker = ice_projectedUniverse_df[ice_projectedUniverse_df['ISIN number']==isid]\n",
    "    if(len(ticker)>0):\n",
    "        return ticker.iloc[0]['% Mkt Value']\n",
    "    return 0\n",
    "\n",
    "pff_df['Current % Mkt Cap'] = pff_df.apply(getCurrentMarketCap, axis=1)\n",
    "pff_df['Projected % Mkt Cap'] = pff_df.apply(getProjectedMarketCap, axis=1)"
   ]
  },
  {
   "cell_type": "code",
   "execution_count": 11,
   "id": "4380cce0",
   "metadata": {},
   "outputs": [],
   "source": [
    "def getCurrentPFFShares(x):\n",
    "    if(not isinstance(x['Last Price'], str)):\n",
    "        return np.rint((current_pff_market_cap*x['Current % Mkt Cap'])/(x['Last Price']*100))\n",
    "    return np.nan\n",
    "\n",
    "def getProjectedPFFShares(x):\n",
    "    if(not isinstance(x['Last Price'], str)):\n",
    "        return np.rint((current_pff_market_cap*x['Projected % Mkt Cap'])/(x['Last Price']*100))\n",
    "    return np.nan\n",
    "\n",
    "pff_df['Current PFF Shares'] = pff_df.apply(getCurrentPFFShares, axis=1)\n",
    "pff_df['Projected PFF Shares'] = pff_df.apply(getProjectedPFFShares, axis=1)\n",
    "pff_df['Difference'] = pff_df.apply(lambda x: x['Projected PFF Shares']-x['Current PFF Shares'], axis=1)"
   ]
  },
  {
   "cell_type": "code",
   "execution_count": 12,
   "id": "e51833cc",
   "metadata": {},
   "outputs": [],
   "source": [
    "total_buys_ice = pff_df['Difference'].where(pff_df['Difference']>0).sum()\n",
    "total_sells_ice = pff_df['Difference'].where(pff_df['Difference']<0).sum()\n",
    "total_pff_transactions_df = pd.DataFrame({\"Number of Shares\":[total_buys_ice, total_sells_ice]}, index=['Total PFF Buys', 'Total PFF Sells'])"
   ]
  },
  {
   "cell_type": "code",
   "execution_count": 13,
   "id": "fb93c4ad",
   "metadata": {},
   "outputs": [],
   "source": [
    "with pd.ExcelWriter(outputFile) as writer:\n",
    "    pff_df.to_excel(writer, sheet_name='ICE Current vs ICE Projected')\n",
    "    total_pff_transactions_df.to_excel(writer, sheet_name='Total PFF Transactions')"
   ]
  },
  {
   "cell_type": "code",
   "execution_count": null,
   "id": "b5b6b57b",
   "metadata": {},
   "outputs": [],
   "source": []
  },
  {
   "cell_type": "code",
   "execution_count": 14,
   "id": "4bb8a4a5",
   "metadata": {
    "scrolled": true
   },
   "outputs": [
    {
     "data": {
      "text/html": [
       "<div>\n",
       "<style scoped>\n",
       "    .dataframe tbody tr th:only-of-type {\n",
       "        vertical-align: middle;\n",
       "    }\n",
       "\n",
       "    .dataframe tbody tr th {\n",
       "        vertical-align: top;\n",
       "    }\n",
       "\n",
       "    .dataframe thead th {\n",
       "        text-align: right;\n",
       "    }\n",
       "</style>\n",
       "<table border=\"1\" class=\"dataframe\">\n",
       "  <thead>\n",
       "    <tr style=\"text-align: right;\">\n",
       "      <th></th>\n",
       "      <th>ISIN number</th>\n",
       "      <th>Ticker</th>\n",
       "      <th>Activ Ticker</th>\n",
       "      <th>Last Price</th>\n",
       "      <th>Current % Mkt Cap</th>\n",
       "      <th>Projected % Mkt Cap</th>\n",
       "      <th>Current PFF Shares</th>\n",
       "      <th>Projected PFF Shares</th>\n",
       "      <th>Difference</th>\n",
       "    </tr>\n",
       "  </thead>\n",
       "  <tbody>\n",
       "    <tr>\n",
       "      <th>101</th>\n",
       "      <td>US1127142099</td>\n",
       "      <td>DTLA</td>\n",
       "      <td>DTLA</td>\n",
       "      <td>UD</td>\n",
       "      <td>0.01668</td>\n",
       "      <td>0.01708</td>\n",
       "      <td>NaN</td>\n",
       "      <td>NaN</td>\n",
       "      <td>NaN</td>\n",
       "    </tr>\n",
       "    <tr>\n",
       "      <th>144</th>\n",
       "      <td>US19247G2066</td>\n",
       "      <td>IIVIP</td>\n",
       "      <td>IIVIP</td>\n",
       "      <td>UD</td>\n",
       "      <td>0.24260</td>\n",
       "      <td>0.00000</td>\n",
       "      <td>NaN</td>\n",
       "      <td>NaN</td>\n",
       "      <td>NaN</td>\n",
       "    </tr>\n",
       "    <tr>\n",
       "      <th>179</th>\n",
       "      <td>US26884U2087</td>\n",
       "      <td>EPR.PRC</td>\n",
       "      <td>ppC</td>\n",
       "      <td>source not found</td>\n",
       "      <td>0.05843</td>\n",
       "      <td>0.05981</td>\n",
       "      <td>NaN</td>\n",
       "      <td>NaN</td>\n",
       "      <td>NaN</td>\n",
       "    </tr>\n",
       "    <tr>\n",
       "      <th>180</th>\n",
       "      <td>US26884U5056</td>\n",
       "      <td>EPR.PRG</td>\n",
       "      <td>ppG</td>\n",
       "      <td>source not found</td>\n",
       "      <td>0.06466</td>\n",
       "      <td>0.06619</td>\n",
       "      <td>NaN</td>\n",
       "      <td>NaN</td>\n",
       "      <td>NaN</td>\n",
       "    </tr>\n",
       "    <tr>\n",
       "      <th>181</th>\n",
       "      <td>US26884U3077</td>\n",
       "      <td>EPR.PRE</td>\n",
       "      <td>ppE</td>\n",
       "      <td>NaN</td>\n",
       "      <td>0.05315</td>\n",
       "      <td>0.05440</td>\n",
       "      <td>NaN</td>\n",
       "      <td>NaN</td>\n",
       "      <td>NaN</td>\n",
       "    </tr>\n",
       "    <tr>\n",
       "      <th>399</th>\n",
       "      <td>US8385182071</td>\n",
       "      <td>SJIJ</td>\n",
       "      <td>SJIJ</td>\n",
       "      <td>target not permissioned</td>\n",
       "      <td>0.07219</td>\n",
       "      <td>0.00000</td>\n",
       "      <td>NaN</td>\n",
       "      <td>NaN</td>\n",
       "      <td>NaN</td>\n",
       "    </tr>\n",
       "    <tr>\n",
       "      <th>400</th>\n",
       "      <td>US8385183061</td>\n",
       "      <td>SJIV</td>\n",
       "      <td>SJIV</td>\n",
       "      <td>target not permissioned</td>\n",
       "      <td>0.24614</td>\n",
       "      <td>0.00000</td>\n",
       "      <td>NaN</td>\n",
       "      <td>NaN</td>\n",
       "      <td>NaN</td>\n",
       "    </tr>\n",
       "  </tbody>\n",
       "</table>\n",
       "</div>"
      ],
      "text/plain": [
       "      ISIN number   Ticker Activ Ticker               Last Price  \\\n",
       "101  US1127142099     DTLA         DTLA                       UD   \n",
       "144  US19247G2066    IIVIP        IIVIP                       UD   \n",
       "179  US26884U2087  EPR.PRC          ppC         source not found   \n",
       "180  US26884U5056  EPR.PRG          ppG         source not found   \n",
       "181  US26884U3077  EPR.PRE          ppE                      NaN   \n",
       "399  US8385182071     SJIJ         SJIJ  target not permissioned   \n",
       "400  US8385183061     SJIV         SJIV  target not permissioned   \n",
       "\n",
       "     Current % Mkt Cap  Projected % Mkt Cap  Current PFF Shares  \\\n",
       "101            0.01668              0.01708                 NaN   \n",
       "144            0.24260              0.00000                 NaN   \n",
       "179            0.05843              0.05981                 NaN   \n",
       "180            0.06466              0.06619                 NaN   \n",
       "181            0.05315              0.05440                 NaN   \n",
       "399            0.07219              0.00000                 NaN   \n",
       "400            0.24614              0.00000                 NaN   \n",
       "\n",
       "     Projected PFF Shares  Difference  \n",
       "101                   NaN         NaN  \n",
       "144                   NaN         NaN  \n",
       "179                   NaN         NaN  \n",
       "180                   NaN         NaN  \n",
       "181                   NaN         NaN  \n",
       "399                   NaN         NaN  \n",
       "400                   NaN         NaN  "
      ]
     },
     "execution_count": 14,
     "metadata": {},
     "output_type": "execute_result"
    }
   ],
   "source": [
    "pff_df[pff_df['Last Price'].apply(lambda x: (type(x)!=float and type(x)!=int) or math.isnan(x))].drop(110)"
   ]
  },
  {
   "cell_type": "code",
   "execution_count": null,
   "id": "31dfcc3d",
   "metadata": {},
   "outputs": [],
   "source": []
  }
 ],
 "metadata": {
  "kernelspec": {
   "display_name": "Python 3 (ipykernel)",
   "language": "python",
   "name": "python3"
  },
  "language_info": {
   "codemirror_mode": {
    "name": "ipython",
    "version": 3
   },
   "file_extension": ".py",
   "mimetype": "text/x-python",
   "name": "python",
   "nbconvert_exporter": "python",
   "pygments_lexer": "ipython3",
   "version": "3.10.10"
  }
 },
 "nbformat": 4,
 "nbformat_minor": 5
}
