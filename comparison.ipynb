{
 "cells": [
  {
   "cell_type": "code",
   "execution_count": 1,
   "id": "4f1c1ce7",
   "metadata": {},
   "outputs": [],
   "source": [
    "import os\n",
    "import pandas as pd"
   ]
  },
  {
   "cell_type": "code",
   "execution_count": 3,
   "id": "819f07a7",
   "metadata": {},
   "outputs": [],
   "source": [
    "def getComparisonDF(etf_name):\n",
    "    iceComparison_df = pd.read_excel('Output/ICE/{} Rebalancing Numbers.xlsx'.format(etf_name), sheet_name='{} - ICE Index'.format(etf_name))\n",
    "    iceComparison_df = iceComparison_df[['ISIN number', 'Difference Today', 'Ticker']]\n",
    "    iceComparison_df.rename(columns={'Difference Today':'ICE Difference'}, inplace=True)\n",
    "    \n",
    "    etfComparison_df = pd.read_excel('Output/ETF/{} ETF vs ICE.xlsx'.format(etf_name), sheet_name=etf_name)\n",
    "    if('ISIN number' in etfComparison_df.columns):\n",
    "        etfComparison_df.rename(columns={'ISIN number':'ISIN'}, inplace=True)\n",
    "    etfComparison_df = etfComparison_df[['ISIN', 'Difference']]\n",
    "    etfComparison_df.rename(columns={'Difference':'ETF Difference'}, inplace=True)\n",
    "    \n",
    "    merged_df = iceComparison_df.merge(etfComparison_df, left_on='ISIN number', right_on='ISIN', how='outer')\n",
    "    merged_df['ICE vs ETF'] = merged_df.apply(lambda x: x['ICE Difference']-x['ETF Difference'], axis=1)\n",
    "    merged_df.sort_values(by='ICE vs ETF', key=abs, ascending=False, inplace=True)\n",
    "    \n",
    "    return merged_df"
   ]
  },
  {
   "cell_type": "code",
   "execution_count": 4,
   "id": "84f9302d",
   "metadata": {},
   "outputs": [],
   "source": [
    "def getFileWriter(outputFile):\n",
    "    '''Return Append Mode if file is present else Write Mode '''\n",
    "    if(os.path.isfile(outputFile)):\n",
    "        return pd.ExcelWriter(outputFile, mode=\"a\", if_sheet_exists=\"replace\", engine='openpyxl')\n",
    "    return pd.ExcelWriter(outputFile, mode=\"w\", engine='openpyxl')"
   ]
  },
  {
   "cell_type": "code",
   "execution_count": 5,
   "id": "450be8f2",
   "metadata": {},
   "outputs": [],
   "source": [
    "def writeToSingleFile(merged_df, etf_name):\n",
    "    outputFile = 'Output/ICE vs ETF.xlsx'\n",
    "    writer = getFileWriter(outputFile) \n",
    "    \n",
    "    merged_df.to_excel(writer, sheet_name='{}'.format(etf_name))\n",
    "    writer.close()"
   ]
  },
  {
   "cell_type": "code",
   "execution_count": 6,
   "id": "afff58f9",
   "metadata": {},
   "outputs": [],
   "source": [
    "def main():\n",
    "    \n",
    "    etf_list = ['PGX', 'PFF', 'PSK', 'PGF', 'PFFD', 'PFFV']\n",
    "    \n",
    "    for etf_name in etf_list:\n",
    "        print(etf_name)\n",
    "        merged_df = getComparisonDF(etf_name)\n",
    "        writeToSingleFile(merged_df, etf_name)"
   ]
  },
  {
   "cell_type": "code",
   "execution_count": 7,
   "id": "b4e93420",
   "metadata": {},
   "outputs": [
    {
     "name": "stdout",
     "output_type": "stream",
     "text": [
      "PGX\n",
      "PFF\n",
      "PSK\n",
      "PGF\n",
      "PFFD\n",
      "PFFV\n"
     ]
    }
   ],
   "source": [
    "main()"
   ]
  },
  {
   "cell_type": "code",
   "execution_count": null,
   "id": "2d214c90",
   "metadata": {},
   "outputs": [],
   "source": []
  }
 ],
 "metadata": {
  "kernelspec": {
   "display_name": "Python 3 (ipykernel)",
   "language": "python",
   "name": "python3"
  },
  "language_info": {
   "codemirror_mode": {
    "name": "ipython",
    "version": 3
   },
   "file_extension": ".py",
   "mimetype": "text/x-python",
   "name": "python",
   "nbconvert_exporter": "python",
   "pygments_lexer": "ipython3",
   "version": "3.10.10"
  }
 },
 "nbformat": 4,
 "nbformat_minor": 5
}
