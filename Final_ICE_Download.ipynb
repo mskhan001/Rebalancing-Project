{
 "cells": [
  {
   "cell_type": "code",
   "execution_count": 28,
   "id": "d899bf11",
   "metadata": {},
   "outputs": [
    {
     "name": "stderr",
     "output_type": "stream",
     "text": [
      "/var/folders/3f/bwblj7n13596fl7z3cp9q_c40000gn/T/ipykernel_5029/3207454669.py:13: DeprecationWarning: executable_path has been deprecated, please pass in a Service object\n",
      "  browser = Chrome(executable_path=path, options=options)\n"
     ]
    }
   ],
   "source": [
    "from selenium.webdriver import Chrome\n",
    "from selenium.webdriver.common.by import By\n",
    "from selenium.webdriver.chrome.options import Options\n",
    "from selenium.webdriver.support.ui import WebDriverWait\n",
    "from selenium.webdriver.support import expected_conditions as EC\n",
    "import time\n",
    "from bs4 import BeautifulSoup\n",
    "import pandas as pd\n",
    "\n",
    "path = 'chromedriver.exe'\n",
    "url = f\"https://indices.theice.com/\"\n",
    "options = Options()\n",
    "browser = Chrome(executable_path=path, options=options)    \n",
    "browser.get(url)\n",
    "\n",
    "wait = WebDriverWait(browser, 30)\n",
    "accept_button = wait.until(EC.element_to_be_clickable((By.ID, 'btnAccept')))\n",
    "accept_button.click()\n",
    "\n",
    "login_button = wait.until(EC.element_to_be_clickable((By.ID, 'link')))\n",
    "login_button.click()\n",
    "\n",
    "wait = WebDriverWait(browser, 30)\n",
    "\n",
    "username = \"deepak@paramountfund.net\"\n",
    "password = \"Templin12345!\"\n",
    "\n",
    "username_field = wait.until(EC.presence_of_element_located((By.NAME, 'user')))\n",
    "password_field = wait.until(EC.presence_of_element_located((By.NAME, 'password')))\n",
    "login_button = wait.until(EC.element_to_be_clickable((By.NAME, 'loginPageSubmitBtn')))\n",
    "\n",
    "username_field.send_keys(username)\n",
    "password_field.send_keys(password)\n",
    "login_button.click()"
   ]
  },
  {
   "cell_type": "code",
   "execution_count": 29,
   "id": "3787babe",
   "metadata": {},
   "outputs": [],
   "source": [
    "two_fa = \"143913\"\n",
    "two_fa_field = wait.until(EC.presence_of_element_located((By.NAME, 'otpCode')))\n",
    "two_fa_field.send_keys(two_fa)\n",
    "login_button.click()"
   ]
  },
  {
   "cell_type": "code",
   "execution_count": 30,
   "id": "9f7f2f49",
   "metadata": {},
   "outputs": [],
   "source": [
    "time.sleep(5)\n",
    "index_url = f\"https://indices.theice.com/bondIndexAnalysis/showIndexViewerPage?pageTitle=Index%20Viewer\"\n",
    "browser.get(index_url)\n",
    "time.sleep(30)\n",
    "index_list = [\"PLCR\", \"PFAF\", \"PFAN\", \"PFTF\", \"PHGY\", \"P0P4\", \"PFAR\"]\n",
    "# index_list = [\"PFTF\", \"PHGY\", \"P0P4\", \"PFAR\"]"
   ]
  },
  {
   "cell_type": "code",
   "execution_count": 32,
   "id": "f451c00a",
   "metadata": {},
   "outputs": [
    {
     "name": "stdout",
     "output_type": "stream",
     "text": [
      "Looking for PLCR files...\n"
     ]
    },
    {
     "ename": "KeyboardInterrupt",
     "evalue": "",
     "output_type": "error",
     "traceback": [
      "\u001b[0;31m---------------------------------------------------------------------------\u001b[0m",
      "\u001b[0;31mKeyboardInterrupt\u001b[0m                         Traceback (most recent call last)",
      "Cell \u001b[0;32mIn[32], line 18\u001b[0m\n\u001b[1;32m     16\u001b[0m \u001b[38;5;66;03m# wait for an element that appears after the page has fully loaded\u001b[39;00m\n\u001b[1;32m     17\u001b[0m element_to_wait_for \u001b[38;5;241m=\u001b[39m WebDriverWait(browser, \u001b[38;5;241m30\u001b[39m)\u001b[38;5;241m.\u001b[39muntil(EC\u001b[38;5;241m.\u001b[39mpresence_of_element_located((By\u001b[38;5;241m.\u001b[39mCSS_SELECTOR, \u001b[38;5;124m'\u001b[39m\u001b[38;5;124m.css-uuart6\u001b[39m\u001b[38;5;124m'\u001b[39m)))\n\u001b[0;32m---> 18\u001b[0m \u001b[43mtime\u001b[49m\u001b[38;5;241;43m.\u001b[39;49m\u001b[43msleep\u001b[49m\u001b[43m(\u001b[49m\u001b[38;5;241;43m45\u001b[39;49m\u001b[43m)\u001b[49m \u001b[38;5;66;03m# optional, just to ensure that everything has fully loaded\u001b[39;00m\n\u001b[1;32m     20\u001b[0m \u001b[38;5;66;03m# continue with downloading the data\u001b[39;00m\n\u001b[1;32m     21\u001b[0m data_download \u001b[38;5;241m=\u001b[39m WebDriverWait(browser,\u001b[38;5;241m30\u001b[39m)\u001b[38;5;241m.\u001b[39muntil(EC\u001b[38;5;241m.\u001b[39mpresence_of_element_located((By\u001b[38;5;241m.\u001b[39mCSS_SELECTOR, \u001b[38;5;124m'\u001b[39m\u001b[38;5;124m.ice-button.ice-button-download.css-108c8p4\u001b[39m\u001b[38;5;124m'\u001b[39m)))\n",
      "\u001b[0;31mKeyboardInterrupt\u001b[0m: "
     ]
    }
   ],
   "source": [
    "for index in index_list:\n",
    "    print(f\"Looking for {index} files...\")\n",
    "    index_field = wait.until(EC.presence_of_element_located((By.NAME, 'selectedIndex')))\n",
    "    search_button = wait.until(EC.element_to_be_clickable((By.CSS_SELECTOR, '.ice-button.css-onp4ik')))\n",
    "\n",
    "    index_field.clear()\n",
    "    index_field.send_keys(index)\n",
    "    search_button.click()\n",
    "    \n",
    "    close_button = WebDriverWait(browser,30).until(EC.element_to_be_clickable((By.CSS_SELECTOR, '.ice-button.css-1qqe6v6')))\n",
    "    close_button.click()\n",
    "    \n",
    "    constituents_tab = WebDriverWait(browser, 30).until(EC.presence_of_element_located((By.ID, 'controlled-tab-navigator-tab-1')))\n",
    "    constituents_tab.click()\n",
    "\n",
    "    # wait for an element that appears after the page has fully loaded\n",
    "    element_to_wait_for = WebDriverWait(browser, 30).until(EC.presence_of_element_located((By.CSS_SELECTOR, '.css-uuart6')))\n",
    "    time.sleep(45) # optional, just to ensure that everything has fully loaded\n",
    "\n",
    "    # continue with downloading the data\n",
    "    data_download = WebDriverWait(browser,30).until(EC.presence_of_element_located((By.CSS_SELECTOR, '.ice-button.ice-button-download.css-108c8p4')))\n",
    "    browser.execute_script(\"arguments[0].click();\", data_download)\n",
    "    print(f\"Downloading {index} Current File...\")\n",
    "    time.sleep(45)\n",
    "    \n",
    "    # Click on the dropdown to reveal the options\n",
    "    dropdown = WebDriverWait(browser, 30).until(EC.element_to_be_clickable((By.CSS_SELECTOR, '.css-uuart6')))\n",
    "    dropdown.click()\n",
    "\n",
    "    # Click on the \"Projected\" option\n",
    "    projected_option = WebDriverWait(browser, 30).until(EC.element_to_be_clickable((By.ID, \"downshift-9-item-1\")))\n",
    "    projected_option.click()\n",
    "    data_download = wait.until(EC.presence_of_element_located((By.CSS_SELECTOR, '.ice-button.ice-button-download.css-108c8p4')))\n",
    "    browser.execute_script(\"arguments[0].click();\", data_download)\n",
    "    print(f\"Downloading {index} Projected File...\")\n",
    "    time.sleep(45)"
   ]
  },
  {
   "cell_type": "code",
   "execution_count": null,
   "id": "4af2ce04",
   "metadata": {},
   "outputs": [],
   "source": []
  },
  {
   "cell_type": "code",
   "execution_count": 33,
   "id": "cbea7a9e",
   "metadata": {},
   "outputs": [
    {
     "name": "stdout",
     "output_type": "stream",
     "text": [
      "PLCR-Projected.xlsx\n",
      "PLCR-Current.xlsx\n",
      "PFAF-Projected.xlsx\n",
      "PFAF-Current.xlsx\n",
      "PFAN-Current.xlsx\n",
      "PFAN-Projected.xlsx\n",
      "PFTF-Current.xlsx\n",
      "PFTF-Projected.xlsx\n",
      "PHGY-Current.xlsx\n",
      "PHGY-Projected.xlsx\n",
      "P0P4-Projected.xlsx\n",
      "P0P4-Current.xlsx\n",
      "PFAR-Projected.xlsx\n",
      "PFAR-Current.xlsx\n"
     ]
    }
   ],
   "source": [
    "import os\n",
    "import fnmatch\n",
    "\n",
    "download_path = r\"/Users/sahilkhan/Downloads\"\n",
    "patterns = [\"PLCR*\", \"PFAF*\", \"PFAN*\", \"PFTF*\", \"CIPS*\", \"PHGY*\", \"P0P4*\", \"PFAR*\"]\n",
    "\n",
    "for file_pattern in patterns:\n",
    "    # loop through all files in the directory and filter based on the filename pattern\n",
    "    for file_name in os.listdir(download_path):\n",
    "        if fnmatch.fnmatch(file_name, file_pattern):\n",
    "            # determine the new file name based on the presence of '(1)' in the file name\n",
    "            if '(1)' in file_name:\n",
    "                new_file_name = f'{file_pattern[:-1]}-Projected' + os.path.splitext(file_name)[-1] # add file extension\n",
    "                print(new_file_name)\n",
    "            else:\n",
    "                new_file_name = f'{file_pattern[:-1]}-Current' + os.path.splitext(file_name)[-1] # add file extension\n",
    "                print(new_file_name)\n",
    "            # construct the full file paths for the source and destination files\n",
    "            src_file_path = os.path.join(download_path, file_name)\n",
    "            dst_file_path = os.path.join(download_path, new_file_name)\n",
    "\n",
    "            # rename the file\n",
    "            os.rename(src_file_path, dst_file_path)"
   ]
  },
  {
   "cell_type": "code",
   "execution_count": 34,
   "id": "99c986b1",
   "metadata": {},
   "outputs": [
    {
     "name": "stdout",
     "output_type": "stream",
     "text": [
      "Deleting /Users/sahilkhan/Downloads/Rebalance Project/Data/PFAR-Projected.xlsx\n",
      "Moved PFAR-Projected.xlsx to /Users/sahilkhan/Downloads/Rebalance Project/Data/\n",
      "Deleting /Users/sahilkhan/Downloads/Rebalance Project/Data/PFAN-Current.xlsx\n",
      "Moved PFAN-Current.xlsx to /Users/sahilkhan/Downloads/Rebalance Project/Data/\n",
      "Deleting /Users/sahilkhan/Downloads/Rebalance Project/Data/PHGY-Current.xlsx\n",
      "Moved PHGY-Current.xlsx to /Users/sahilkhan/Downloads/Rebalance Project/Data/\n",
      "Deleting /Users/sahilkhan/Downloads/Rebalance Project/Data/PLCR-Current.xlsx\n",
      "Moved PLCR-Current.xlsx to /Users/sahilkhan/Downloads/Rebalance Project/Data/\n",
      "Deleting /Users/sahilkhan/Downloads/Rebalance Project/Data/PHGY-Projected.xlsx\n",
      "Moved PHGY-Projected.xlsx to /Users/sahilkhan/Downloads/Rebalance Project/Data/\n",
      "Deleting /Users/sahilkhan/Downloads/Rebalance Project/Data/PLCR-Projected.xlsx\n",
      "Moved PLCR-Projected.xlsx to /Users/sahilkhan/Downloads/Rebalance Project/Data/\n",
      "Deleting /Users/sahilkhan/Downloads/Rebalance Project/Data/P0P4-Projected.xlsx\n",
      "Moved P0P4-Projected.xlsx to /Users/sahilkhan/Downloads/Rebalance Project/Data/\n",
      "Deleting /Users/sahilkhan/Downloads/Rebalance Project/Data/P0P4-Current.xlsx\n",
      "Moved P0P4-Current.xlsx to /Users/sahilkhan/Downloads/Rebalance Project/Data/\n",
      "Deleting /Users/sahilkhan/Downloads/Rebalance Project/Data/PFAF-Current.xlsx\n",
      "Moved PFAF-Current.xlsx to /Users/sahilkhan/Downloads/Rebalance Project/Data/\n",
      "Deleting /Users/sahilkhan/Downloads/Rebalance Project/Data/PFTF-Current.xlsx\n",
      "Moved PFTF-Current.xlsx to /Users/sahilkhan/Downloads/Rebalance Project/Data/\n",
      "Deleting /Users/sahilkhan/Downloads/Rebalance Project/Data/PFAR-Current.xlsx\n",
      "Moved PFAR-Current.xlsx to /Users/sahilkhan/Downloads/Rebalance Project/Data/\n",
      "Deleting /Users/sahilkhan/Downloads/Rebalance Project/Data/PFTF-Projected.xlsx\n",
      "Moved PFTF-Projected.xlsx to /Users/sahilkhan/Downloads/Rebalance Project/Data/\n",
      "Deleting /Users/sahilkhan/Downloads/Rebalance Project/Data/PFAN-Projected.xlsx\n",
      "Moved PFAN-Projected.xlsx to /Users/sahilkhan/Downloads/Rebalance Project/Data/\n",
      "Deleting /Users/sahilkhan/Downloads/Rebalance Project/Data/PFAF-Projected.xlsx\n",
      "Moved PFAF-Projected.xlsx to /Users/sahilkhan/Downloads/Rebalance Project/Data/\n"
     ]
    }
   ],
   "source": [
    "# Path where files have to be transferred\n",
    "target_path = r\"/Users/sahilkhan/Downloads/Rebalance Project/Data/\"\n",
    "\n",
    "import os\n",
    "import shutil\n",
    "        \n",
    "for file_name in os.listdir(download_path):\n",
    "    if file_name.endswith(\"-Current.xlsx\") or file_name.endswith(\"-Projected.xlsx\"):\n",
    "        file_path = os.path.join(target_path, file_name)\n",
    "        try:\n",
    "            if os.path.isfile(file_path):\n",
    "                print(\"Deleting {}\".format(file_path))\n",
    "            else:\n",
    "                 print(\"File not present\")   \n",
    "        except Exception as e:\n",
    "            print(f'Error deleting file: {file_path}', e)\n",
    "        \n",
    "        source_file_path = os.path.join(download_path, file_name)\n",
    "        target_file_path = os.path.join(target_path, file_name)\n",
    "        shutil.move(source_file_path, target_file_path)\n",
    "        print(f\"Moved {file_name} to {target_path}\")"
   ]
  },
  {
   "cell_type": "code",
   "execution_count": null,
   "id": "81aebd6f",
   "metadata": {},
   "outputs": [],
   "source": []
  }
 ],
 "metadata": {
  "kernelspec": {
   "display_name": "Python 3 (ipykernel)",
   "language": "python",
   "name": "python3"
  },
  "language_info": {
   "codemirror_mode": {
    "name": "ipython",
    "version": 3
   },
   "file_extension": ".py",
   "mimetype": "text/x-python",
   "name": "python",
   "nbconvert_exporter": "python",
   "pygments_lexer": "ipython3",
   "version": "3.10.10"
  }
 },
 "nbformat": 4,
 "nbformat_minor": 5
}
