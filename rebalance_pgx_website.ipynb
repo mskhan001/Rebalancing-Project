{
 "cells": [
  {
   "cell_type": "code",
   "execution_count": 1,
   "id": "f1da7585",
   "metadata": {},
   "outputs": [],
   "source": [
    "import pandas as pd\n",
    "import numpy as np\n",
    "from babel.numbers import format_currency"
   ]
  },
  {
   "cell_type": "code",
   "execution_count": 2,
   "id": "e6c4ca79",
   "metadata": {},
   "outputs": [],
   "source": [
    "index_name = \"P0P4\"\n",
    "etf_name = \"PGX\"\n",
    "\n",
    "# Output File Name\n",
    "outputFile = 'Output/{} ETF vs ICE.xlsx'.format(etf_name)\n",
    "\n",
    "# Total market Cap for PFF, needs to be manually updated\n",
    "# Can be automated later\n",
    "current_pgx_market_cap = 4902900000\n",
    "current_pgx_cash = 40000000\n",
    "\n",
    "# Reading ICE Data For Projected Universe\n",
    "projected_universe_df = pd.read_excel('Data/P0P4-Projected.xlsx', skiprows=[0])\n",
    "\n",
    "# Reading PFF Website Data for Current Shares\n",
    "pgx_current_holdings_df = pd.read_csv('Data/PGX_Website_Data.csv')\n",
    "pgx_current_holdings_df = pgx_current_holdings_df[[' Holding Ticker', ' Shares/Par Value']]\n",
    "pgx_current_holdings_df[' Shares/Par Value'] = pgx_current_holdings_df[' Shares/Par Value'].str.replace(',','').astype(int) \n",
    "# DataFrame for our final Output\n",
    "pgx_df = pd.DataFrame()\n",
    "\n",
    "\n",
    "# When reading data, below strings are read, they must be marked as np.nan\n",
    "msg1 = 'Any unauthorized use or disclosure is prohibited. Nothing herein should in any way be deemed to alter the legal rights and obligations contained in agreements between any ICE Data Services entity (\"ICE\") and their clients relating to any of the Indices or products or services described herein. The information provided by ICE and contained herein is subject to change without notice and does not constitute any form of representation, or undertaking.  ICE and its affiliates make no warranties whatsoever, either express or implied, as to merchantability, fitness for a particular purpose, or any other matter in connection with the information provided. Without limiting the foregoing, ICE and its affiliates makes no representation or warranty that any information provided hereunder are complete or free from errors, omissions, or defects. All information provided by ICE is owned by or licensed to ICE. ICE retains exclusive ownership of the ICE Indices, including the ICE BofAML Indexes, and the analytics used to create this analysis ICE may in its absolute discretion and without prior notice revise or terminate the ICE information and analytics at any time. The information in this analysis is for internal use only and redistribution of this information to third parties is expressly prohibited.'\n",
    "msg2 = 'Neither the analysis nor the information contained therein constitutes investment advice or an offer  or an invitation to make an offer  to buy or sell any securities or any options  futures or other derivatives related to such securities. The information and calculations contained in this analysis have been obtained from a variety of sources  including those other than ICE and ICE does not guarantee their accuracy.  Prior to relying on any ICE information and/or the execution of a security trade based upon such ICE information, you are advised to consult with your broker or other financial representative to verify pricing information. There is no assurance that hypothetical results will be equal to actual performance under any market conditions. THE ICE INFORMATION IS PROVIDED TO THE USERS \"AS IS.\" NEITHER ICE, NOR ITS AFFILIATES, NOR ANY THIRD PARTY DATA PROVIDER WILL BE LIABLE TO ANY USER OR ANYONE ELSE FOR ANY INTERRUPTION, INACCURACY, ERROR OR OMISSION, REGARDLESS OF CAUSE, IN THE ICE INFORMATION OR FOR ANY DAMAGES RESULTING THEREFROM. In no event shall ICE or any of its affiliates, employees  officers  directors or agents of any such persons have any liability to any person or entity relating to or arising out of this information, analysis  or the indices  contained herein.'\n",
    "\n",
    "# Projected Universe Data\n",
    "projected_universe_df = projected_universe_df.replace('NaN', np.nan)\n",
    "projected_universe_df = projected_universe_df.replace(msg1, np.nan)\n",
    "projected_universe_df= projected_universe_df.replace(msg2, np.nan)\n",
    "\n",
    "#drop row if ISIN number is Nan\n",
    "projected_universe_df.dropna(subset=['ISIN number'], inplace=True)"
   ]
  },
  {
   "cell_type": "code",
   "execution_count": 3,
   "id": "62c9968c",
   "metadata": {},
   "outputs": [],
   "source": [
    "pgx_website_data_corrections = {\n",
    "    'ATH-PA': 'ATH.PRA',\n",
    "    'SCE-PK': 'SCE.PRK',\n",
    "    'PSA-PM': 'PSA.PRM',\n",
    "    'CTA-PB': 'CTA.PRB',\n",
    "    'TRTN-PB': 'TRTN.PRB',\n",
    "    'SJI': 'SJIJ'\n",
    "}\n",
    "\n",
    "# Changing the Ticker in PGX Website Data to IB Format\n",
    "def getIBFormat(x):\n",
    "    return \".PR\".join(x.split(' '))\n",
    "\n",
    "pgx_current_holdings_df['Ticker']=pgx_current_holdings_df[' Holding Ticker'].apply(getIBFormat)\n",
    "\n",
    "## Applying Corrections in the Ticker format\n",
    "for holding_ticker in pgx_website_data_corrections:\n",
    "    pgx_current_holdings_df.loc[pgx_current_holdings_df[' Holding Ticker']==holding_ticker, 'Ticker'] = pgx_website_data_corrections[holding_ticker]"
   ]
  },
  {
   "cell_type": "code",
   "execution_count": 4,
   "id": "83254c41",
   "metadata": {},
   "outputs": [],
   "source": [
    "isin_to_ticker_df = pd.read_excel('Static Data/ISINtoTicker.xlsx')"
   ]
  },
  {
   "cell_type": "code",
   "execution_count": 5,
   "id": "7bea8288",
   "metadata": {},
   "outputs": [],
   "source": [
    "pgx_current_holdings_df = pgx_current_holdings_df.merge(isin_to_ticker_df, left_on='Ticker', right_on='Ticker', how='left')"
   ]
  },
  {
   "cell_type": "code",
   "execution_count": 6,
   "id": "4e59174b",
   "metadata": {},
   "outputs": [],
   "source": [
    "# Storing the unique ISIN ID's from both the current and projected universe data\n",
    "unique_ISIN = pd.concat([pgx_current_holdings_df['ISIN'], projected_universe_df['ISIN number']]).drop_duplicates().reset_index(drop=True)\n",
    "pgx_df['ISIN number'] = unique_ISIN"
   ]
  },
  {
   "cell_type": "code",
   "execution_count": 7,
   "id": "d9d4c098",
   "metadata": {},
   "outputs": [],
   "source": [
    "pgx_df = pgx_df.merge(isin_to_ticker_df, left_on=\"ISIN number\", right_on=\"ISIN\", how=\"left\").drop([\"ISIN\"], axis=1)"
   ]
  },
  {
   "cell_type": "code",
   "execution_count": 8,
   "id": "1e6ff96c",
   "metadata": {},
   "outputs": [],
   "source": [
    "def getProjectedMarketCap(x):\n",
    "    isid = x['ISIN number']\n",
    "    ticker = projected_universe_df[projected_universe_df['ISIN number']==isid]\n",
    "    if(len(ticker)>0):\n",
    "        return ticker.iloc[0]['% Mkt Value']\n",
    "    return 0\n",
    "\n",
    "pgx_df['Projected % Mkt Cap'] = pgx_df.apply(getProjectedMarketCap, axis=1)"
   ]
  },
  {
   "cell_type": "code",
   "execution_count": 9,
   "id": "48c46824",
   "metadata": {},
   "outputs": [],
   "source": [
    "def getCurrentPGXShares(x):\n",
    "    isin = x['ISIN number']\n",
    "    ticker = pgx_current_holdings_df[pgx_current_holdings_df['ISIN']==isin]\n",
    "    if(len(ticker)>0):\n",
    "        return ticker.iloc[0][' Shares/Par Value']\n",
    "    return 0\n",
    "\n",
    "pgx_df['Current PGX Shares'] = pgx_df.apply(getCurrentPGXShares, axis=1)"
   ]
  },
  {
   "cell_type": "code",
   "execution_count": 10,
   "id": "112c2d1f",
   "metadata": {},
   "outputs": [],
   "source": [
    "pgx_df.drop(['Activ Ticker', 'Bloomberg File Ticker', 'Activ Last Price Formula'], axis=1, inplace=True)"
   ]
  },
  {
   "cell_type": "code",
   "execution_count": 11,
   "id": "922286da",
   "metadata": {},
   "outputs": [],
   "source": [
    "def getProjectedPGXShares(x):\n",
    "    if(not isinstance(x['Last Price'], str)):\n",
    "        return np.rint((current_pgx_market_cap*x['Projected % Mkt Cap'])/(x['Last Price']*100))\n",
    "    return 0\n",
    "\n",
    "pgx_df['Projected PGX Shares'] = pgx_df.apply(getProjectedPGXShares, axis=1)"
   ]
  },
  {
   "cell_type": "code",
   "execution_count": 12,
   "id": "045482d5",
   "metadata": {},
   "outputs": [],
   "source": [
    "def getDifference(x):\n",
    "    if((not isinstance(x['Projected PGX Shares'], str)) and (not isinstance(x['Current PGX Shares'], str))):\n",
    "        return x['Projected PGX Shares']-x['Current PGX Shares']\n",
    "    return np.nan\n",
    "\n",
    "def getDollarDifference(x):\n",
    "    if((not isinstance(x['Last Price'], str)) and (not isinstance(x['Difference'], str))):\n",
    "        return x['Last Price']*x['Difference']\n",
    "    return np.nan\n",
    "\n",
    "pgx_df['Difference'] = pgx_df.apply(getDifference, axis=1)\n",
    "pgx_df['Difference $'] = pgx_df.apply(getDollarDifference, axis=1)"
   ]
  },
  {
   "cell_type": "code",
   "execution_count": 13,
   "id": "2d479cc5",
   "metadata": {},
   "outputs": [],
   "source": [
    "pgx_df.sort_values('Difference')\n",
    "pgx_df.sort_values(by='Difference $', key=abs, ascending=False, inplace=True)\n",
    "pgx_df['Difference $'] = pgx_df['Difference $'].apply(lambda x: format_currency(x, currency=\"USD\", locale=\"en_US\"))\n"
   ]
  },
  {
   "cell_type": "code",
   "execution_count": 14,
   "id": "4d0a9326",
   "metadata": {},
   "outputs": [],
   "source": [
    "# Number of Shares\n",
    "total_buys_ice = pgx_df['Difference'].where(pgx_df['Difference']>0).sum()\n",
    "total_sells_ice = pgx_df['Difference'].where(pgx_df['Difference']<0).sum()\n",
    "\n",
    "# Dollar Value\n",
    "# total_dollar_buying = pgx_df[pgx_df['Difference']>0].apply(lambda x: x['Last Price']*x['Difference'], axis=1).sum()\n",
    "# total_dollar_selling = pgx_df[pgx_df['Difference']<0].apply(lambda x: x['Last Price']*x['Difference'], axis=1).sum()\n",
    "\n",
    "total_pgx_transactions_df = pd.DataFrame({\"Number of Shares\":[total_buys_ice, \n",
    "                                                              total_sells_ice,\n",
    "#                                                               total_dollar_buying,\n",
    "#                                                               abs(total_dollar_selling),\n",
    "                                                              current_pgx_market_cap,\n",
    "                                                              current_pgx_cash\n",
    "                                                             ]}, \n",
    "                                         index=['Total PGX Buys (Number of Shares)', \n",
    "                                                'Total PGX Sells (Number of Shares)',\n",
    "#                                                 'Total PGX Buys (in $)',\n",
    "#                                                 'Total PGX Sells (in $)',\n",
    "                                                'PGX NAV',\n",
    "                                                'PGX Cash'\n",
    "                                               ])"
   ]
  },
  {
   "cell_type": "code",
   "execution_count": 15,
   "id": "e98e2c32",
   "metadata": {},
   "outputs": [],
   "source": [
    "with pd.ExcelWriter(outputFile, mode=\"w\") as writer:\n",
    "    pgx_df.to_excel(writer, sheet_name='PGX')\n",
    "    total_pgx_transactions_df.to_excel(writer, sheet_name='Total Transactions - PGX')\n",
    "    \n",
    "    workbook = writer.book\n",
    "    worksheet = writer.sheets['PGX']\n",
    "\n",
    "    cellFormat = workbook.add_format({'num_format': '#,###'})\n",
    "    worksheet.set_column('F:H', 10, cellFormat)"
   ]
  }
 ],
 "metadata": {
  "kernelspec": {
   "display_name": "Python 3 (ipykernel)",
   "language": "python",
   "name": "python3"
  },
  "language_info": {
   "codemirror_mode": {
    "name": "ipython",
    "version": 3
   },
   "file_extension": ".py",
   "mimetype": "text/x-python",
   "name": "python",
   "nbconvert_exporter": "python",
   "pygments_lexer": "ipython3",
   "version": "3.10.10"
  }
 },
 "nbformat": 4,
 "nbformat_minor": 5
}
